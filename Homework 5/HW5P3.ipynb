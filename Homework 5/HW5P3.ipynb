{
 "cells": [
  {
   "cell_type": "code",
   "execution_count": 34,
   "id": "ccdc1021-3918-4ff6-b4fe-fddbddc47134",
   "metadata": {},
   "outputs": [],
   "source": [
    "import numpy as np\n",
    "import pandas as pd\n",
    "import matplotlib.pyplot as plt\n",
    "import seaborn as sns\n",
    "import torch\n",
    "import torch.optim as optim\n",
    "from sklearn.metrics import mean_squared_error"
   ]
  },
  {
   "cell_type": "code",
   "execution_count": 35,
   "id": "36515cef-2b5a-495f-9a96-8062e6ea9e2c",
   "metadata": {},
   "outputs": [
    {
     "data": {
      "text/html": [
       "<div>\n",
       "<style scoped>\n",
       "    .dataframe tbody tr th:only-of-type {\n",
       "        vertical-align: middle;\n",
       "    }\n",
       "\n",
       "    .dataframe tbody tr th {\n",
       "        vertical-align: top;\n",
       "    }\n",
       "\n",
       "    .dataframe thead th {\n",
       "        text-align: right;\n",
       "    }\n",
       "</style>\n",
       "<table border=\"1\" class=\"dataframe\">\n",
       "  <thead>\n",
       "    <tr style=\"text-align: right;\">\n",
       "      <th></th>\n",
       "      <th>price</th>\n",
       "      <th>area</th>\n",
       "      <th>bedrooms</th>\n",
       "      <th>bathrooms</th>\n",
       "      <th>stories</th>\n",
       "      <th>mainroad</th>\n",
       "      <th>guestroom</th>\n",
       "      <th>basement</th>\n",
       "      <th>hotwaterheating</th>\n",
       "      <th>airconditioning</th>\n",
       "      <th>parking</th>\n",
       "      <th>prefarea</th>\n",
       "      <th>furnishingstatus</th>\n",
       "    </tr>\n",
       "  </thead>\n",
       "  <tbody>\n",
       "    <tr>\n",
       "      <th>0</th>\n",
       "      <td>13300000</td>\n",
       "      <td>7420</td>\n",
       "      <td>4</td>\n",
       "      <td>2</td>\n",
       "      <td>3</td>\n",
       "      <td>yes</td>\n",
       "      <td>no</td>\n",
       "      <td>no</td>\n",
       "      <td>no</td>\n",
       "      <td>yes</td>\n",
       "      <td>2</td>\n",
       "      <td>yes</td>\n",
       "      <td>furnished</td>\n",
       "    </tr>\n",
       "    <tr>\n",
       "      <th>1</th>\n",
       "      <td>12250000</td>\n",
       "      <td>8960</td>\n",
       "      <td>4</td>\n",
       "      <td>4</td>\n",
       "      <td>4</td>\n",
       "      <td>yes</td>\n",
       "      <td>no</td>\n",
       "      <td>no</td>\n",
       "      <td>no</td>\n",
       "      <td>yes</td>\n",
       "      <td>3</td>\n",
       "      <td>no</td>\n",
       "      <td>furnished</td>\n",
       "    </tr>\n",
       "    <tr>\n",
       "      <th>2</th>\n",
       "      <td>12250000</td>\n",
       "      <td>9960</td>\n",
       "      <td>3</td>\n",
       "      <td>2</td>\n",
       "      <td>2</td>\n",
       "      <td>yes</td>\n",
       "      <td>no</td>\n",
       "      <td>yes</td>\n",
       "      <td>no</td>\n",
       "      <td>no</td>\n",
       "      <td>2</td>\n",
       "      <td>yes</td>\n",
       "      <td>semi-furnished</td>\n",
       "    </tr>\n",
       "    <tr>\n",
       "      <th>3</th>\n",
       "      <td>12215000</td>\n",
       "      <td>7500</td>\n",
       "      <td>4</td>\n",
       "      <td>2</td>\n",
       "      <td>2</td>\n",
       "      <td>yes</td>\n",
       "      <td>no</td>\n",
       "      <td>yes</td>\n",
       "      <td>no</td>\n",
       "      <td>yes</td>\n",
       "      <td>3</td>\n",
       "      <td>yes</td>\n",
       "      <td>furnished</td>\n",
       "    </tr>\n",
       "    <tr>\n",
       "      <th>4</th>\n",
       "      <td>11410000</td>\n",
       "      <td>7420</td>\n",
       "      <td>4</td>\n",
       "      <td>1</td>\n",
       "      <td>2</td>\n",
       "      <td>yes</td>\n",
       "      <td>yes</td>\n",
       "      <td>yes</td>\n",
       "      <td>no</td>\n",
       "      <td>yes</td>\n",
       "      <td>2</td>\n",
       "      <td>no</td>\n",
       "      <td>furnished</td>\n",
       "    </tr>\n",
       "  </tbody>\n",
       "</table>\n",
       "</div>"
      ],
      "text/plain": [
       "      price  area  bedrooms  bathrooms  stories mainroad guestroom basement  \\\n",
       "0  13300000  7420         4          2        3      yes        no       no   \n",
       "1  12250000  8960         4          4        4      yes        no       no   \n",
       "2  12250000  9960         3          2        2      yes        no      yes   \n",
       "3  12215000  7500         4          2        2      yes        no      yes   \n",
       "4  11410000  7420         4          1        2      yes       yes      yes   \n",
       "\n",
       "  hotwaterheating airconditioning  parking prefarea furnishingstatus  \n",
       "0              no             yes        2      yes        furnished  \n",
       "1              no             yes        3       no        furnished  \n",
       "2              no              no        2      yes   semi-furnished  \n",
       "3              no             yes        3      yes        furnished  \n",
       "4              no             yes        2       no        furnished  "
      ]
     },
     "execution_count": 35,
     "metadata": {},
     "output_type": "execute_result"
    }
   ],
   "source": [
    "housing = pd.DataFrame(pd.read_csv('Housing.csv'))\n",
    "housing.head()"
   ]
  },
  {
   "cell_type": "code",
   "execution_count": 36,
   "id": "7408725c-3162-458c-b130-62337a0978b2",
   "metadata": {},
   "outputs": [],
   "source": [
    "m = len(housing)"
   ]
  },
  {
   "cell_type": "code",
   "execution_count": 37,
   "id": "d9ec0828-8b0e-41ef-8be9-27d775827dcd",
   "metadata": {},
   "outputs": [
    {
     "data": {
      "text/plain": [
       "((436, 13), (109, 13))"
      ]
     },
     "execution_count": 37,
     "metadata": {},
     "output_type": "execute_result"
    }
   ],
   "source": [
    "#Splitting the Data into Training and Testing Sets\n",
    "from sklearn.model_selection import train_test_split\n",
    "\n",
    "#We specify this so that the train and test data set always have the same rows, respectively\n",
    "np.random.seed(0)\n",
    "df_train, df_test = train_test_split(housing, train_size = 0.8, test_size = 0.2)\n",
    "df_train.shape, df_test.shape"
   ]
  },
  {
   "cell_type": "code",
   "execution_count": 38,
   "id": "1e8bd286-fa48-4114-a5cc-6639430cbb15",
   "metadata": {},
   "outputs": [
    {
     "data": {
      "text/html": [
       "<div>\n",
       "<style scoped>\n",
       "    .dataframe tbody tr th:only-of-type {\n",
       "        vertical-align: middle;\n",
       "    }\n",
       "\n",
       "    .dataframe tbody tr th {\n",
       "        vertical-align: top;\n",
       "    }\n",
       "\n",
       "    .dataframe thead th {\n",
       "        text-align: right;\n",
       "    }\n",
       "</style>\n",
       "<table border=\"1\" class=\"dataframe\">\n",
       "  <thead>\n",
       "    <tr style=\"text-align: right;\">\n",
       "      <th></th>\n",
       "      <th>area</th>\n",
       "      <th>bedrooms</th>\n",
       "      <th>bathrooms</th>\n",
       "      <th>stories</th>\n",
       "      <th>parking</th>\n",
       "      <th>price</th>\n",
       "    </tr>\n",
       "  </thead>\n",
       "  <tbody>\n",
       "    <tr>\n",
       "      <th>542</th>\n",
       "      <td>3620</td>\n",
       "      <td>2</td>\n",
       "      <td>1</td>\n",
       "      <td>1</td>\n",
       "      <td>0</td>\n",
       "      <td>1750000</td>\n",
       "    </tr>\n",
       "    <tr>\n",
       "      <th>496</th>\n",
       "      <td>4000</td>\n",
       "      <td>2</td>\n",
       "      <td>1</td>\n",
       "      <td>1</td>\n",
       "      <td>0</td>\n",
       "      <td>2695000</td>\n",
       "    </tr>\n",
       "    <tr>\n",
       "      <th>484</th>\n",
       "      <td>3040</td>\n",
       "      <td>2</td>\n",
       "      <td>1</td>\n",
       "      <td>1</td>\n",
       "      <td>0</td>\n",
       "      <td>2870000</td>\n",
       "    </tr>\n",
       "    <tr>\n",
       "      <th>507</th>\n",
       "      <td>3600</td>\n",
       "      <td>2</td>\n",
       "      <td>1</td>\n",
       "      <td>1</td>\n",
       "      <td>0</td>\n",
       "      <td>2590000</td>\n",
       "    </tr>\n",
       "    <tr>\n",
       "      <th>252</th>\n",
       "      <td>9860</td>\n",
       "      <td>3</td>\n",
       "      <td>1</td>\n",
       "      <td>1</td>\n",
       "      <td>0</td>\n",
       "      <td>4515000</td>\n",
       "    </tr>\n",
       "  </tbody>\n",
       "</table>\n",
       "</div>"
      ],
      "text/plain": [
       "     area  bedrooms  bathrooms  stories  parking    price\n",
       "542  3620         2          1        1        0  1750000\n",
       "496  4000         2          1        1        0  2695000\n",
       "484  3040         2          1        1        0  2870000\n",
       "507  3600         2          1        1        0  2590000\n",
       "252  9860         3          1        1        0  4515000"
      ]
     },
     "execution_count": 38,
     "metadata": {},
     "output_type": "execute_result"
    }
   ],
   "source": [
    "num_vars = ['area', 'bedrooms', 'bathrooms', 'stories', 'parking', 'price']\n",
    "df_Newtrain = df_train[num_vars]\n",
    "df_Newtest = df_test[num_vars]\n",
    "df_Newtrain.head()"
   ]
  },
  {
   "cell_type": "code",
   "execution_count": 39,
   "id": "c7f7f519-e439-4cdb-b149-1925f0b4e92f",
   "metadata": {},
   "outputs": [],
   "source": [
    "import warnings\n",
    "warnings.filterwarnings('ignore')\n",
    "\n",
    "from sklearn.preprocessing import MinMaxScaler, StandardScaler\n",
    "m_scaler = MinMaxScaler()\n",
    "s_scaler = StandardScaler()\n",
    "#MinMax First\n",
    "df_Newtrain[num_vars] = s_scaler.fit_transform(df_Newtrain[num_vars])\n",
    "df_Newtest[num_vars] = s_scaler.fit_transform(df_Newtest[num_vars])"
   ]
  },
  {
   "cell_type": "code",
   "execution_count": 40,
   "id": "a6fa1819-6b6c-4d3b-b122-4cc51a11e242",
   "metadata": {},
   "outputs": [],
   "source": [
    "Y_Normtrain = df_Newtrain.pop('price')\n",
    "X_Normtrain = df_Newtrain.copy()\n",
    "Y_Normtest = df_Newtest.pop('price')\n",
    "X_Normtest = df_Newtest.copy()"
   ]
  },
  {
   "cell_type": "code",
   "execution_count": 41,
   "id": "f75d580d-1677-413e-a67a-994fef8f5b2b",
   "metadata": {},
   "outputs": [],
   "source": [
    "Y = Y_Normtrain.values[:]\n",
    "Y_test = Y_Normtest.values[:]"
   ]
  },
  {
   "cell_type": "code",
   "execution_count": 42,
   "id": "7b47ae44-2235-4da0-a610-bd64cee4178b",
   "metadata": {},
   "outputs": [],
   "source": [
    "X1 = df_Newtrain.values[:, 0] #Area values\n",
    "X2 = df_Newtrain.values[:, 1] #Bedroom values\n",
    "X3 = df_Newtrain.values[:, 2] #Bathroom values\n",
    "X4 = df_Newtrain.values[:, 3] #Stories values\n",
    "X5 = df_Newtrain.values[:, 4] #Parking values\n",
    "\n",
    "X1_test = df_Newtest.values[:, 0] #Area values\n",
    "X2_test = df_Newtest.values[:, 1] #Bedroom values\n",
    "X3_test = df_Newtest.values[:, 2] #Bathroom values\n",
    "X4_test = df_Newtest.values[:, 3] #Stories values\n",
    "X5_test = df_Newtest.values[:, 4] #Parking values"
   ]
  },
  {
   "cell_type": "code",
   "execution_count": 44,
   "id": "3607afc3-769b-4b25-a229-5a5ba1e5b626",
   "metadata": {},
   "outputs": [
    {
     "data": {
      "text/plain": [
       "(436, 109)"
      ]
     },
     "execution_count": 44,
     "metadata": {},
     "output_type": "execute_result"
    }
   ],
   "source": [
    "m_train = len(Y_Normtrain)\n",
    "m_test = len(Y_Normtest)\n",
    "m_train, m_test"
   ]
  },
  {
   "cell_type": "code",
   "execution_count": 54,
   "id": "2ee34593-0067-40ba-871b-e0c9b3b5ff9a",
   "metadata": {},
   "outputs": [],
   "source": [
    "#Start to implement a Neural network\n",
    "import torch.nn as nn\n",
    "linear_model = nn.Linear(8, 1)"
   ]
  },
  {
   "cell_type": "code",
   "execution_count": 49,
   "id": "3d537029-0803-4b55-b68f-d06000fdb036",
   "metadata": {},
   "outputs": [],
   "source": [
    "#Not sure if this is right\n",
    "#Predicted vs Actual\n",
    "def loss_fn(t_p, t_c):\n",
    "    squared_diffs = (t_p - t_c)**2\n",
    "    return squared_diffs.mean()"
   ]
  },
  {
   "cell_type": "code",
   "execution_count": 50,
   "id": "502ccb93-0eae-4143-9c4e-564e7778a8ba",
   "metadata": {},
   "outputs": [],
   "source": [
    "loss_rate_of_change_b = (loss_fn(model(X1, X2, X3, X4, X5, W1, W2, W3, W4, W5, b+delta), Y) - loss_fn(model(X1, X2, X3, X4, X5, W1, W2, W3, W4, W5, b-delta), Y)) / (2.0 * delta)\n",
    "loss_rate_of_change_b\n",
    "b = b - learning_rate * loss_rate_of_change_b"
   ]
  },
  {
   "cell_type": "code",
   "execution_count": 51,
   "id": "9f72b756-1542-43ac-bab9-da93f9ad374a",
   "metadata": {},
   "outputs": [],
   "source": [
    "linear_model = nn.Linear(8, 1)\n",
    "optimizer = optim.SGD(linear_model.parameters(), lr=1e-2)"
   ]
  },
  {
   "cell_type": "code",
   "execution_count": 52,
   "id": "e7f65822-a61c-44dd-8171-33a8f0513f8b",
   "metadata": {},
   "outputs": [],
   "source": [
    "def training_loop(n_epochs, optimizer, model, loss_fn, x_train, x_val, y_train, y_val):\n",
    "    for epoch in range(1, n_epochs + 1):\n",
    "        W1, W2, W3, W4, W5, b = params\n",
    "        \n",
    "        t_p = model(X1, X2, X3, X4, X5, W1, W2, W3, W4, W5, b)\n",
    "        loss = loss_fn(t_p, Y)\n",
    "        grad = grad_fn(X1, X2, X3, X4, X5, Y, t_p, W1, W2, W3, W4, W5, b)\n",
    "        \n",
    "        params = params - learning_rate * grad\n",
    "        \n",
    "        if (epoch == 1) or (epoch % 500 == 0):\n",
    "            print('Epoch %d, Loss %f' % (epoch, float(loss)))\n",
    "            print('MSE: ', mean_squared_error(Y, t_p))\n",
    "            print(' ')\n",
    "    return params"
   ]
  }
 ],
 "metadata": {
  "kernelspec": {
   "display_name": "Python 3 (ipykernel)",
   "language": "python",
   "name": "python3"
  },
  "language_info": {
   "codemirror_mode": {
    "name": "ipython",
    "version": 3
   },
   "file_extension": ".py",
   "mimetype": "text/x-python",
   "name": "python",
   "nbconvert_exporter": "python",
   "pygments_lexer": "ipython3",
   "version": "3.9.12"
  }
 },
 "nbformat": 4,
 "nbformat_minor": 5
}
