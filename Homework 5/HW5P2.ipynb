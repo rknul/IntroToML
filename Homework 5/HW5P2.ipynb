{
 "cells": [
  {
   "cell_type": "code",
   "execution_count": 32,
   "id": "ccdc1021-3918-4ff6-b4fe-fddbddc47134",
   "metadata": {},
   "outputs": [],
   "source": [
    "import numpy as np\n",
    "import pandas as pd\n",
    "import matplotlib.pyplot as plt\n",
    "import seaborn as sns\n",
    "import torch\n",
    "from sklearn.metrics import mean_squared_error"
   ]
  },
  {
   "cell_type": "code",
   "execution_count": 33,
   "id": "36515cef-2b5a-495f-9a96-8062e6ea9e2c",
   "metadata": {},
   "outputs": [
    {
     "data": {
      "text/html": [
       "<div>\n",
       "<style scoped>\n",
       "    .dataframe tbody tr th:only-of-type {\n",
       "        vertical-align: middle;\n",
       "    }\n",
       "\n",
       "    .dataframe tbody tr th {\n",
       "        vertical-align: top;\n",
       "    }\n",
       "\n",
       "    .dataframe thead th {\n",
       "        text-align: right;\n",
       "    }\n",
       "</style>\n",
       "<table border=\"1\" class=\"dataframe\">\n",
       "  <thead>\n",
       "    <tr style=\"text-align: right;\">\n",
       "      <th></th>\n",
       "      <th>price</th>\n",
       "      <th>area</th>\n",
       "      <th>bedrooms</th>\n",
       "      <th>bathrooms</th>\n",
       "      <th>stories</th>\n",
       "      <th>mainroad</th>\n",
       "      <th>guestroom</th>\n",
       "      <th>basement</th>\n",
       "      <th>hotwaterheating</th>\n",
       "      <th>airconditioning</th>\n",
       "      <th>parking</th>\n",
       "      <th>prefarea</th>\n",
       "      <th>furnishingstatus</th>\n",
       "    </tr>\n",
       "  </thead>\n",
       "  <tbody>\n",
       "    <tr>\n",
       "      <th>0</th>\n",
       "      <td>13300000</td>\n",
       "      <td>7420</td>\n",
       "      <td>4</td>\n",
       "      <td>2</td>\n",
       "      <td>3</td>\n",
       "      <td>yes</td>\n",
       "      <td>no</td>\n",
       "      <td>no</td>\n",
       "      <td>no</td>\n",
       "      <td>yes</td>\n",
       "      <td>2</td>\n",
       "      <td>yes</td>\n",
       "      <td>furnished</td>\n",
       "    </tr>\n",
       "    <tr>\n",
       "      <th>1</th>\n",
       "      <td>12250000</td>\n",
       "      <td>8960</td>\n",
       "      <td>4</td>\n",
       "      <td>4</td>\n",
       "      <td>4</td>\n",
       "      <td>yes</td>\n",
       "      <td>no</td>\n",
       "      <td>no</td>\n",
       "      <td>no</td>\n",
       "      <td>yes</td>\n",
       "      <td>3</td>\n",
       "      <td>no</td>\n",
       "      <td>furnished</td>\n",
       "    </tr>\n",
       "    <tr>\n",
       "      <th>2</th>\n",
       "      <td>12250000</td>\n",
       "      <td>9960</td>\n",
       "      <td>3</td>\n",
       "      <td>2</td>\n",
       "      <td>2</td>\n",
       "      <td>yes</td>\n",
       "      <td>no</td>\n",
       "      <td>yes</td>\n",
       "      <td>no</td>\n",
       "      <td>no</td>\n",
       "      <td>2</td>\n",
       "      <td>yes</td>\n",
       "      <td>semi-furnished</td>\n",
       "    </tr>\n",
       "    <tr>\n",
       "      <th>3</th>\n",
       "      <td>12215000</td>\n",
       "      <td>7500</td>\n",
       "      <td>4</td>\n",
       "      <td>2</td>\n",
       "      <td>2</td>\n",
       "      <td>yes</td>\n",
       "      <td>no</td>\n",
       "      <td>yes</td>\n",
       "      <td>no</td>\n",
       "      <td>yes</td>\n",
       "      <td>3</td>\n",
       "      <td>yes</td>\n",
       "      <td>furnished</td>\n",
       "    </tr>\n",
       "    <tr>\n",
       "      <th>4</th>\n",
       "      <td>11410000</td>\n",
       "      <td>7420</td>\n",
       "      <td>4</td>\n",
       "      <td>1</td>\n",
       "      <td>2</td>\n",
       "      <td>yes</td>\n",
       "      <td>yes</td>\n",
       "      <td>yes</td>\n",
       "      <td>no</td>\n",
       "      <td>yes</td>\n",
       "      <td>2</td>\n",
       "      <td>no</td>\n",
       "      <td>furnished</td>\n",
       "    </tr>\n",
       "  </tbody>\n",
       "</table>\n",
       "</div>"
      ],
      "text/plain": [
       "      price  area  bedrooms  bathrooms  stories mainroad guestroom basement  \\\n",
       "0  13300000  7420         4          2        3      yes        no       no   \n",
       "1  12250000  8960         4          4        4      yes        no       no   \n",
       "2  12250000  9960         3          2        2      yes        no      yes   \n",
       "3  12215000  7500         4          2        2      yes        no      yes   \n",
       "4  11410000  7420         4          1        2      yes       yes      yes   \n",
       "\n",
       "  hotwaterheating airconditioning  parking prefarea furnishingstatus  \n",
       "0              no             yes        2      yes        furnished  \n",
       "1              no             yes        3       no        furnished  \n",
       "2              no              no        2      yes   semi-furnished  \n",
       "3              no             yes        3      yes        furnished  \n",
       "4              no             yes        2       no        furnished  "
      ]
     },
     "execution_count": 33,
     "metadata": {},
     "output_type": "execute_result"
    }
   ],
   "source": [
    "housing = pd.DataFrame(pd.read_csv('Housing.csv'))\n",
    "housing.head()"
   ]
  },
  {
   "cell_type": "code",
   "execution_count": 34,
   "id": "7408725c-3162-458c-b130-62337a0978b2",
   "metadata": {},
   "outputs": [],
   "source": [
    "m = len(housing)"
   ]
  },
  {
   "cell_type": "code",
   "execution_count": 35,
   "id": "d9ec0828-8b0e-41ef-8be9-27d775827dcd",
   "metadata": {},
   "outputs": [
    {
     "data": {
      "text/plain": [
       "((436, 13), (109, 13))"
      ]
     },
     "execution_count": 35,
     "metadata": {},
     "output_type": "execute_result"
    }
   ],
   "source": [
    "#Splitting the Data into Training and Testing Sets\n",
    "from sklearn.model_selection import train_test_split\n",
    "\n",
    "#We specify this so that the train and test data set always have the same rows, respectively\n",
    "np.random.seed(0)\n",
    "df_train, df_test = train_test_split(housing, train_size = 0.8, test_size = 0.2)\n",
    "df_train.shape, df_test.shape"
   ]
  },
  {
   "cell_type": "code",
   "execution_count": 36,
   "id": "1e8bd286-fa48-4114-a5cc-6639430cbb15",
   "metadata": {},
   "outputs": [
    {
     "data": {
      "text/html": [
       "<div>\n",
       "<style scoped>\n",
       "    .dataframe tbody tr th:only-of-type {\n",
       "        vertical-align: middle;\n",
       "    }\n",
       "\n",
       "    .dataframe tbody tr th {\n",
       "        vertical-align: top;\n",
       "    }\n",
       "\n",
       "    .dataframe thead th {\n",
       "        text-align: right;\n",
       "    }\n",
       "</style>\n",
       "<table border=\"1\" class=\"dataframe\">\n",
       "  <thead>\n",
       "    <tr style=\"text-align: right;\">\n",
       "      <th></th>\n",
       "      <th>area</th>\n",
       "      <th>bedrooms</th>\n",
       "      <th>bathrooms</th>\n",
       "      <th>stories</th>\n",
       "      <th>parking</th>\n",
       "      <th>price</th>\n",
       "    </tr>\n",
       "  </thead>\n",
       "  <tbody>\n",
       "    <tr>\n",
       "      <th>542</th>\n",
       "      <td>3620</td>\n",
       "      <td>2</td>\n",
       "      <td>1</td>\n",
       "      <td>1</td>\n",
       "      <td>0</td>\n",
       "      <td>1750000</td>\n",
       "    </tr>\n",
       "    <tr>\n",
       "      <th>496</th>\n",
       "      <td>4000</td>\n",
       "      <td>2</td>\n",
       "      <td>1</td>\n",
       "      <td>1</td>\n",
       "      <td>0</td>\n",
       "      <td>2695000</td>\n",
       "    </tr>\n",
       "    <tr>\n",
       "      <th>484</th>\n",
       "      <td>3040</td>\n",
       "      <td>2</td>\n",
       "      <td>1</td>\n",
       "      <td>1</td>\n",
       "      <td>0</td>\n",
       "      <td>2870000</td>\n",
       "    </tr>\n",
       "    <tr>\n",
       "      <th>507</th>\n",
       "      <td>3600</td>\n",
       "      <td>2</td>\n",
       "      <td>1</td>\n",
       "      <td>1</td>\n",
       "      <td>0</td>\n",
       "      <td>2590000</td>\n",
       "    </tr>\n",
       "    <tr>\n",
       "      <th>252</th>\n",
       "      <td>9860</td>\n",
       "      <td>3</td>\n",
       "      <td>1</td>\n",
       "      <td>1</td>\n",
       "      <td>0</td>\n",
       "      <td>4515000</td>\n",
       "    </tr>\n",
       "  </tbody>\n",
       "</table>\n",
       "</div>"
      ],
      "text/plain": [
       "     area  bedrooms  bathrooms  stories  parking    price\n",
       "542  3620         2          1        1        0  1750000\n",
       "496  4000         2          1        1        0  2695000\n",
       "484  3040         2          1        1        0  2870000\n",
       "507  3600         2          1        1        0  2590000\n",
       "252  9860         3          1        1        0  4515000"
      ]
     },
     "execution_count": 36,
     "metadata": {},
     "output_type": "execute_result"
    }
   ],
   "source": [
    "num_vars = ['area', 'bedrooms', 'bathrooms', 'stories', 'parking', 'price']\n",
    "df_Newtrain = df_train[num_vars]\n",
    "df_Newtest = df_test[num_vars]\n",
    "df_Newtrain.head()"
   ]
  },
  {
   "cell_type": "code",
   "execution_count": 37,
   "id": "c7f7f519-e439-4cdb-b149-1925f0b4e92f",
   "metadata": {},
   "outputs": [],
   "source": [
    "import warnings\n",
    "warnings.filterwarnings('ignore')\n",
    "\n",
    "from sklearn.preprocessing import MinMaxScaler, StandardScaler\n",
    "m_scaler = MinMaxScaler()\n",
    "s_scaler = StandardScaler()\n",
    "#MinMax First\n",
    "df_Newtrain[num_vars] = s_scaler.fit_transform(df_Newtrain[num_vars])\n",
    "df_Newtest[num_vars] = s_scaler.fit_transform(df_Newtest[num_vars])"
   ]
  },
  {
   "cell_type": "code",
   "execution_count": 38,
   "id": "a6fa1819-6b6c-4d3b-b122-4cc51a11e242",
   "metadata": {},
   "outputs": [],
   "source": [
    "Y_Normtrain = df_Newtrain.pop('price')\n",
    "X_Normtrain = df_Newtrain.copy()\n",
    "Y_Normtest = df_Newtest.pop('price')\n",
    "X_Normtest = df_Newtest.copy()"
   ]
  },
  {
   "cell_type": "code",
   "execution_count": 39,
   "id": "f75d580d-1677-413e-a67a-994fef8f5b2b",
   "metadata": {},
   "outputs": [],
   "source": [
    "Y = Y_Normtrain.values[:]\n",
    "Y_test = Y_Normtest.values[:]"
   ]
  },
  {
   "cell_type": "code",
   "execution_count": 40,
   "id": "7b47ae44-2235-4da0-a610-bd64cee4178b",
   "metadata": {},
   "outputs": [],
   "source": [
    "X1 = df_Newtrain.values[:, 0] #Area values\n",
    "X2 = df_Newtrain.values[:, 1] #Bedroom values\n",
    "X3 = df_Newtrain.values[:, 2] #Bathroom values\n",
    "X4 = df_Newtrain.values[:, 3] #Stories values\n",
    "X5 = df_Newtrain.values[:, 4] #Parking values\n",
    "\n",
    "X1_test = df_Newtest.values[:, 0] #Area values\n",
    "X2_test = df_Newtest.values[:, 1] #Bedroom values\n",
    "X3_test = df_Newtest.values[:, 2] #Bathroom values\n",
    "X4_test = df_Newtest.values[:, 3] #Stories values\n",
    "X5_test = df_Newtest.values[:, 4] #Parking values"
   ]
  },
  {
   "cell_type": "code",
   "execution_count": 41,
   "id": "3607afc3-769b-4b25-a229-5a5ba1e5b626",
   "metadata": {},
   "outputs": [
    {
     "data": {
      "text/plain": [
       "(436, 109)"
      ]
     },
     "execution_count": 41,
     "metadata": {},
     "output_type": "execute_result"
    }
   ],
   "source": [
    "m_train = len(Y_Normtrain)\n",
    "m_test = len(Y_Normtest)\n",
    "m_train, m_test"
   ]
  },
  {
   "cell_type": "code",
   "execution_count": 42,
   "id": "26687425-3eef-411b-b7a4-58eef71ba8a0",
   "metadata": {},
   "outputs": [],
   "source": [
    "X_0 = np.ones((m_train, 1))\n",
    "X_0_test = np.ones((m_test, 1))"
   ]
  },
  {
   "cell_type": "code",
   "execution_count": 43,
   "id": "67b36cdf-ff06-41e3-91a8-b8e3932c4efb",
   "metadata": {},
   "outputs": [],
   "source": [
    "#Reshape function used to convert X from 1D to 2D array of m x 1\n",
    "X_1 = X1.reshape(m_train, 1)\n",
    "X_2 = X2.reshape(m_train, 1)\n",
    "X_3 = X3.reshape(m_train, 1)\n",
    "X_4 = X4.reshape(m_train, 1)\n",
    "X_5 = X5.reshape(m_train, 1)\n",
    "\n",
    "X_1_test = X1_test.reshape(m_test, 1)\n",
    "X_2_test = X2_test.reshape(m_test, 1)\n",
    "X_3_test = X3_test.reshape(m_test, 1)\n",
    "X_4_test = X4_test.reshape(m_test, 1)\n",
    "X_5_test = X5_test.reshape(m_test, 1)"
   ]
  },
  {
   "cell_type": "code",
   "execution_count": 44,
   "id": "251f14d5-2260-414b-a3b0-af3c8109c59d",
   "metadata": {},
   "outputs": [],
   "source": [
    "#hstack() function from numpy to have X_0 to X_5 in one final Matrix\n",
    "X = np.hstack((X_0, X_1, X_2, X_3, X_4, X_5))\n",
    "X_test = np.hstack((X_0_test, X_1_test, X_2_test, X_3_test, X_4_test, X_5_test))"
   ]
  },
  {
   "cell_type": "code",
   "execution_count": 45,
   "id": "fd766549-cf1a-4bfd-9ea4-133e96165d4a",
   "metadata": {},
   "outputs": [
    {
     "data": {
      "text/plain": [
       "array([0., 0., 0., 0., 0., 0.])"
      ]
     },
     "execution_count": 45,
     "metadata": {},
     "output_type": "execute_result"
    }
   ],
   "source": [
    "theta = np.zeros(6)\n",
    "theta"
   ]
  },
  {
   "cell_type": "code",
   "execution_count": 46,
   "id": "03fb7405-40e8-4975-a419-19977614bae7",
   "metadata": {},
   "outputs": [],
   "source": [
    "def model(X1, X2, X3, X4, X5, W1, W2, W3, W4, W5, b):\n",
    "    return W5*X5 + W4*X4 + W3*X3 + W2*X2 + W1*X1 + b"
   ]
  },
  {
   "cell_type": "code",
   "execution_count": 47,
   "id": "3d537029-0803-4b55-b68f-d06000fdb036",
   "metadata": {},
   "outputs": [],
   "source": [
    "#Predicted vs Actual\n",
    "def loss_fn(t_p, t_c):\n",
    "    squared_diffs = (t_p - t_c)**2\n",
    "    return squared_diffs.mean()"
   ]
  },
  {
   "cell_type": "code",
   "execution_count": 49,
   "id": "0d1cae20-7c9b-4b51-8822-174c46c5c751",
   "metadata": {},
   "outputs": [],
   "source": [
    "#Loss Calculation\n",
    "W1 = torch.ones(())\n",
    "W2 = torch.ones(())\n",
    "W3 = torch.ones(())\n",
    "W4 = torch.ones(())\n",
    "W5 = torch.ones(())\n",
    "b = torch.zeros(())\n",
    "t_p = model(X1, X2, X3, X4, X5, W1, W2, W3, W4, W5, b)"
   ]
  },
  {
   "cell_type": "code",
   "execution_count": 50,
   "id": "8f4c7128-aea9-4c85-aca4-7e2b421b2466",
   "metadata": {},
   "outputs": [
    {
     "data": {
      "text/plain": [
       "tensor(6.0517, dtype=torch.float64)"
      ]
     },
     "execution_count": 50,
     "metadata": {},
     "output_type": "execute_result"
    }
   ],
   "source": [
    "loss = loss_fn(t_p, Y)\n",
    "loss"
   ]
  },
  {
   "cell_type": "code",
   "execution_count": 51,
   "id": "652f3f01-a32e-48f5-8ac4-19a323dc790e",
   "metadata": {},
   "outputs": [
    {
     "data": {
      "text/plain": [
       "tensor(14.5259, dtype=torch.float64)"
      ]
     },
     "execution_count": 51,
     "metadata": {},
     "output_type": "execute_result"
    }
   ],
   "source": [
    "delta = 0.1\n",
    "pos_rate_of_change_w = (loss_fn(model(X1, X2, X3, X4, X5, W1+delta, W2+delta, W3+delta, W4+delta, W5+delta, b), Y))\n",
    "neg_rate_of_change_w = loss_fn(model(X1, X2, X3, X4, X5, W1-delta, W2-delta, W3-delta, W4-delta, W5-delta, b), Y)\n",
    "loss_rate_of_change_w = pos_rate_of_change_w - neg_rate_of_change_w\n",
    "loss_rate_of_change_w = loss_rate_of_change_w/(2.0*delta)\n",
    "loss_rate_of_change_w\n"
   ]
  },
  {
   "cell_type": "code",
   "execution_count": 52,
   "id": "eb713d25-b5a7-4bbf-b4fe-f047bcd4686d",
   "metadata": {},
   "outputs": [],
   "source": [
    "learning_rate = 1e-2\n",
    "W1 = W1 - learning_rate * loss_rate_of_change_w\n",
    "W2 = W2 - learning_rate * loss_rate_of_change_w\n",
    "W3 = W3 - learning_rate * loss_rate_of_change_w\n",
    "W4 = W4 - learning_rate * loss_rate_of_change_w\n",
    "W5 = W5 - learning_rate * loss_rate_of_change_w"
   ]
  },
  {
   "cell_type": "code",
   "execution_count": 53,
   "id": "502ccb93-0eae-4143-9c4e-564e7778a8ba",
   "metadata": {},
   "outputs": [],
   "source": [
    "loss_rate_of_change_b = (loss_fn(model(X1, X2, X3, X4, X5, W1, W2, W3, W4, W5, b+delta), Y) - loss_fn(model(X1, X2, X3, X4, X5, W1, W2, W3, W4, W5, b-delta), Y)) / (2.0 * delta)\n",
    "loss_rate_of_change_b\n",
    "b = b - learning_rate * loss_rate_of_change_b"
   ]
  },
  {
   "cell_type": "code",
   "execution_count": 54,
   "id": "592e1ef1-d00e-48ec-a278-2e471ead89f5",
   "metadata": {},
   "outputs": [],
   "source": [
    "def dloss_fn(t_p, t_c):\n",
    "    dsq_diffs = 2 * (t_p - t_c) / t_p.size(0)\n",
    "    return dsq_diffs"
   ]
  },
  {
   "cell_type": "code",
   "execution_count": 55,
   "id": "83217cc1-319d-4014-9e05-1b8a9795ee4f",
   "metadata": {},
   "outputs": [],
   "source": [
    "def dmodel_dw5(X5, W5, b):\n",
    "    return X5"
   ]
  },
  {
   "cell_type": "code",
   "execution_count": 56,
   "id": "c329c882-3a01-4c4f-945a-84d8cbc43cdc",
   "metadata": {},
   "outputs": [],
   "source": [
    "def dmodel_dw4(X4, W4, b):\n",
    "    return X4"
   ]
  },
  {
   "cell_type": "code",
   "execution_count": 57,
   "id": "b3302ba0-744b-431c-87c5-ba32a381deea",
   "metadata": {},
   "outputs": [],
   "source": [
    "def dmodel_dw3(X3, W3, b):\n",
    "    return X3"
   ]
  },
  {
   "cell_type": "code",
   "execution_count": 58,
   "id": "cd154bd9-9ec0-4cd1-94ee-87f84701f8c1",
   "metadata": {},
   "outputs": [],
   "source": [
    "def dmodel_dw2(X2, W2, b):\n",
    "    return X2"
   ]
  },
  {
   "cell_type": "code",
   "execution_count": 59,
   "id": "7d4aa403-8ab3-439d-9eb4-6bb363915f15",
   "metadata": {},
   "outputs": [],
   "source": [
    "def dmodel_dw1(X1, W1, b):\n",
    "    return X1"
   ]
  },
  {
   "cell_type": "code",
   "execution_count": 60,
   "id": "9d4c7479-ad2b-4477-9592-ca709e7a8b85",
   "metadata": {},
   "outputs": [],
   "source": [
    "def dmodel_db(X1, X2, X3, X4, X5, W1, W2, W3, W4, W5, b):\n",
    "    return 1.0"
   ]
  },
  {
   "cell_type": "code",
   "execution_count": 61,
   "id": "d11db6b4-e345-4508-a8d2-4877767899ee",
   "metadata": {},
   "outputs": [],
   "source": [
    "#Grad Descent\n",
    "def grad_fn(X1, X2, X3, X4, X5, Y, t_p, W1, W2, W3, W4, W5, b):\n",
    "    dloss_dtp = dloss_fn(t_p, Y)\n",
    "    dloss_dw5 = dloss_dtp * dmodel_dw5(X5, W5, b)\n",
    "    dloss_dw4 = dloss_dtp * dmodel_dw4(X4, W4, b)\n",
    "    dloss_dw3 = dloss_dtp * dmodel_dw3(X3, W3, b)\n",
    "    dloss_dw2 = dloss_dtp * dmodel_dw2(X2, W2, b)\n",
    "    dloss_dw1 = dloss_dtp * dmodel_dw1(X1, W1, b)\n",
    "    dloss_db = dloss_dtp * dmodel_db(X1, X2, X3, X4, X5, W1, W2, W3, W4, W5, b)\n",
    "    return torch.stack([dloss_dw5.sum(), dloss_dw4.sum(), dloss_dw3.sum(), dloss_dw2.sum(), dloss_dw1.sum(), dloss_db.sum()])"
   ]
  },
  {
   "cell_type": "code",
   "execution_count": 68,
   "id": "e7f65822-a61c-44dd-8171-33a8f0513f8b",
   "metadata": {},
   "outputs": [],
   "source": [
    "def training_loop(X1, X2, X3, X4, X5, n_epochs, learning_rate, params, Y):\n",
    "    for epoch in range(1, n_epochs + 1):\n",
    "        W1, W2, W3, W4, W5, b = params\n",
    "        \n",
    "        t_p = model(X1, X2, X3, X4, X5, W1, W2, W3, W4, W5, b)\n",
    "        loss = loss_fn(t_p, Y)\n",
    "        grad = grad_fn(X1, X2, X3, X4, X5, Y, t_p, W1, W2, W3, W4, W5, b)\n",
    "        \n",
    "        params = params - learning_rate * grad\n",
    "        \n",
    "        if (epoch == 1) or (epoch % 500 == 0):\n",
    "            print('Epoch %d, Loss %f' % (epoch, float(loss)))\n",
    "            print('MSE: ', mean_squared_error(Y, t_p))\n",
    "            print(' ')\n",
    "    return params"
   ]
  },
  {
   "cell_type": "code",
   "execution_count": 71,
   "id": "ae111020-683f-4971-9415-d2a53fdaa774",
   "metadata": {},
   "outputs": [
    {
     "name": "stdout",
     "output_type": "stream",
     "text": [
      "Epoch 1, Loss 6.051744\n",
      "MSE:  6.051743994927176\n",
      " \n",
      "Epoch 500, Loss 31798652701215372803411839896379500261553655164960768.000000\n",
      "MSE:  3.1798652701215373e+52\n",
      " \n",
      "Epoch 1000, Loss 66447879863059804620739533827196205346466414842636639932255723329183033602961805980500860371173559425302528.000000\n",
      "MSE:  6.6447879863059805e+106\n",
      " \n",
      "Epoch 1500, Loss 138852465232559283587873036878683254170087387503682622649826004031096299923613391420045346321749948847300974210821942496739767382083366362205837784927892083310592.000000\n",
      "MSE:  1.3885246523255926e+161\n",
      " \n",
      "Epoch 2000, Loss 290152329026798446479831728525799263787177309252690669219286512379176178278850868488301058404723962972155467909225563817372900174901715686442883364526919175478699573952208961590591518773042410750442178778450081349632.000000\n",
      "MSE:  2.9015232902679845e+215\n",
      " \n",
      "Epoch 2500, Loss 606315299470349848688034903068806760368230880748179369230469687985352854388475427597455672706844687722040481101815420037920916511739018865479420726580933066638717582821253088339106187347357081097774661772001216767909709508673240239409772834930366032362606353028808179712.000000\n",
      "MSE:  6.063152994703497e+269\n",
      " \n",
      "Epoch 3000, Loss inf\n",
      "MSE:  inf\n",
      " \n",
      "Epoch 3500, Loss inf\n",
      "MSE:  inf\n",
      " \n",
      "Epoch 4000, Loss inf\n",
      "MSE:  inf\n",
      " \n",
      "Epoch 4500, Loss inf\n",
      "MSE:  inf\n",
      " \n",
      "Epoch 5000, Loss inf\n",
      "MSE:  inf\n",
      " \n"
     ]
    },
    {
     "data": {
      "text/plain": [
       "tensor([-4.8160e+270,  6.4864e+269, -7.5757e+268, -5.2442e+269,  4.7649e+270,\n",
       "        -4.5801e+254], dtype=torch.float64)"
      ]
     },
     "execution_count": 71,
     "metadata": {},
     "output_type": "execute_result"
    }
   ],
   "source": [
    "training_loop(X1, X2, X3, X4, X5, n_epochs = 5000, learning_rate = .1, params = torch.tensor([1.0, 1.0, 1.0, 1.0, 1.0, 0]), Y=Y)"
   ]
  },
  {
   "cell_type": "code",
   "execution_count": 72,
   "id": "55d7aac5-404a-48a6-928c-53b1ccf36768",
   "metadata": {},
   "outputs": [
    {
     "name": "stdout",
     "output_type": "stream",
     "text": [
      "Epoch 1, Loss 6.051744\n",
      "MSE:  6.051743994927176\n",
      " \n",
      "Epoch 500, Loss 11731.571059\n",
      "MSE:  11731.571058686628\n",
      " \n",
      "Epoch 1000, Loss 6076953235.491063\n",
      "MSE:  6076953235.491063\n",
      " \n",
      "Epoch 1500, Loss 3352154898781116.500000\n",
      "MSE:  3352154898781116.5\n",
      " \n",
      "Epoch 2000, Loss 1871756928109572521984.000000\n",
      "MSE:  1.8717569281095725e+21\n",
      " \n",
      "Epoch 2500, Loss 1047500267155873829870370816.000000\n",
      "MSE:  1.0475002671558738e+27\n",
      " \n",
      "Epoch 3000, Loss 586460391441711310241041219584000.000000\n",
      "MSE:  5.864603914417113e+32\n",
      " \n",
      "Epoch 3500, Loss 328364505819491900864750013827168337920.000000\n",
      "MSE:  3.283645058194919e+38\n",
      " \n",
      "Epoch 4000, Loss 183856831649306375120600711635191588993368064.000000\n",
      "MSE:  1.8385683164930638e+44\n",
      " \n",
      "Epoch 4500, Loss 102944807327006448847779776422626491437115615739904.000000\n",
      "MSE:  1.0294480732700647e+50\n",
      " \n",
      "Epoch 5000, Loss 57640709982026289646845963731612358098336236653628096512.000000\n",
      "MSE:  5.764070998202629e+55\n",
      " \n"
     ]
    },
    {
     "data": {
      "text/plain": [
       "tensor([-6.6519e+27,  8.9701e+26, -1.0467e+26, -7.2542e+26,  6.5813e+27,\n",
       "        -6.9377e+11], dtype=torch.float64)"
      ]
     },
     "execution_count": 72,
     "metadata": {},
     "output_type": "execute_result"
    }
   ],
   "source": [
    "training_loop(X1, X2, X3, X4, X5, n_epochs = 5000, learning_rate = .01, params = torch.tensor([1.0, 1.0, 1.0, 1.0, 1.0, 0]), Y=Y)"
   ]
  },
  {
   "cell_type": "code",
   "execution_count": 73,
   "id": "f9c54711-69a9-4d47-aeee-c98b6d7e6e63",
   "metadata": {},
   "outputs": [
    {
     "name": "stdout",
     "output_type": "stream",
     "text": [
      "Epoch 1, Loss 6.051744\n",
      "MSE:  6.051743994927176\n",
      " \n",
      "Epoch 500, Loss 0.682218\n",
      "MSE:  0.6822175801261264\n",
      " \n",
      "Epoch 1000, Loss 0.838317\n",
      "MSE:  0.8383167521140714\n",
      " \n",
      "Epoch 1500, Loss 1.851686\n",
      "MSE:  1.85168604510917\n",
      " \n",
      "Epoch 2000, Loss 5.559931\n",
      "MSE:  5.559930889833036\n",
      " \n",
      "Epoch 2500, Loss 19.148895\n",
      "MSE:  19.148894941728997\n",
      " \n",
      "Epoch 3000, Loss 69.158204\n",
      "MSE:  69.15820447671763\n",
      " \n",
      "Epoch 3500, Loss 253.908607\n",
      "MSE:  253.9086071032863\n",
      " \n",
      "Epoch 4000, Loss 938.764537\n",
      "MSE:  938.7645367648021\n",
      " \n",
      "Epoch 4500, Loss 3485.088091\n",
      "MSE:  3485.088091458693\n",
      " \n",
      "Epoch 5000, Loss 12977.234779\n",
      "MSE:  12977.234779267426\n",
      " \n"
     ]
    },
    {
     "data": {
      "text/plain": [
       "tensor([-9.1206e+01,  4.4590e+01, -2.2570e+00, -4.1240e+01,  8.8076e+01,\n",
       "        -1.4715e-14], dtype=torch.float64)"
      ]
     },
     "execution_count": 73,
     "metadata": {},
     "output_type": "execute_result"
    }
   ],
   "source": [
    "training_loop(X1, X2, X3, X4, X5, n_epochs = 5000, learning_rate = .001, params = torch.tensor([1.0, 1.0, 1.0, 1.0, 1.0, 0]), Y=Y)"
   ]
  },
  {
   "cell_type": "code",
   "execution_count": 74,
   "id": "8a7603d1-9d2c-4451-ba26-c761850b7955",
   "metadata": {},
   "outputs": [
    {
     "name": "stdout",
     "output_type": "stream",
     "text": [
      "Epoch 1, Loss 6.051744\n",
      "MSE:  6.051743994927176\n",
      " \n",
      "Epoch 500, Loss 4.294270\n",
      "MSE:  4.294269933465941\n",
      " \n",
      "Epoch 1000, Loss 3.092903\n",
      "MSE:  3.0929030229953023\n",
      " \n",
      "Epoch 1500, Loss 2.274343\n",
      "MSE:  2.274343022799119\n",
      " \n",
      "Epoch 2000, Loss 1.717445\n",
      "MSE:  1.7174445068560595\n",
      " \n",
      "Epoch 2500, Loss 1.339554\n",
      "MSE:  1.3395535228094204\n",
      " \n",
      "Epoch 3000, Loss 1.084292\n",
      "MSE:  1.084291744636948\n",
      " \n",
      "Epoch 3500, Loss 0.913221\n",
      "MSE:  0.9132207411478657\n",
      " \n",
      "Epoch 4000, Loss 0.800154\n",
      "MSE:  0.800154119106354\n",
      " \n",
      "Epoch 4500, Loss 0.727277\n",
      "MSE:  0.7272767092816058\n",
      " \n",
      "Epoch 5000, Loss 0.682497\n",
      "MSE:  0.6824970467181195\n",
      " \n"
     ]
    },
    {
     "data": {
      "text/plain": [
       "tensor([2.9704e-01, 4.1780e-01, 3.5090e-01, 1.8098e-01, 4.9755e-01, 1.3421e-16],\n",
       "       dtype=torch.float64)"
      ]
     },
     "execution_count": 74,
     "metadata": {},
     "output_type": "execute_result"
    }
   ],
   "source": [
    "training_loop(X1, X2, X3, X4, X5, n_epochs = 5000, learning_rate = .0001, params = torch.tensor([1.0, 1.0, 1.0, 1.0, 1.0, 0]), Y=Y)"
   ]
  },
  {
   "cell_type": "code",
   "execution_count": null,
   "id": "69238261-cfe4-444d-88ce-37247eb6161f",
   "metadata": {},
   "outputs": [],
   "source": []
  }
 ],
 "metadata": {
  "kernelspec": {
   "display_name": "Python 3 (ipykernel)",
   "language": "python",
   "name": "python3"
  },
  "language_info": {
   "codemirror_mode": {
    "name": "ipython",
    "version": 3
   },
   "file_extension": ".py",
   "mimetype": "text/x-python",
   "name": "python",
   "nbconvert_exporter": "python",
   "pygments_lexer": "ipython3",
   "version": "3.9.12"
  }
 },
 "nbformat": 4,
 "nbformat_minor": 5
}
