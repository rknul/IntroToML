{
 "cells": [
  {
   "cell_type": "code",
   "execution_count": 1,
   "id": "c0a865c2-b3a9-40f8-bcce-1d5840fb3a4a",
   "metadata": {},
   "outputs": [],
   "source": [
    "import numpy as np\n",
    "import pandas as pd\n",
    "import matplotlib.pyplot as plt\n",
    "import seaborn as sns"
   ]
  },
  {
   "cell_type": "code",
   "execution_count": 2,
   "id": "d4b42632-defb-446e-acac-f9b394c22e79",
   "metadata": {
    "tags": []
   },
   "outputs": [
    {
     "data": {
      "text/html": [
       "<div>\n",
       "<style scoped>\n",
       "    .dataframe tbody tr th:only-of-type {\n",
       "        vertical-align: middle;\n",
       "    }\n",
       "\n",
       "    .dataframe tbody tr th {\n",
       "        vertical-align: top;\n",
       "    }\n",
       "\n",
       "    .dataframe thead th {\n",
       "        text-align: right;\n",
       "    }\n",
       "</style>\n",
       "<table border=\"1\" class=\"dataframe\">\n",
       "  <thead>\n",
       "    <tr style=\"text-align: right;\">\n",
       "      <th></th>\n",
       "      <th>price</th>\n",
       "      <th>area</th>\n",
       "      <th>bedrooms</th>\n",
       "      <th>bathrooms</th>\n",
       "      <th>stories</th>\n",
       "      <th>mainroad</th>\n",
       "      <th>guestroom</th>\n",
       "      <th>basement</th>\n",
       "      <th>hotwaterheating</th>\n",
       "      <th>airconditioning</th>\n",
       "      <th>parking</th>\n",
       "      <th>prefarea</th>\n",
       "      <th>furnishingstatus</th>\n",
       "    </tr>\n",
       "  </thead>\n",
       "  <tbody>\n",
       "    <tr>\n",
       "      <th>0</th>\n",
       "      <td>13300000</td>\n",
       "      <td>7420</td>\n",
       "      <td>4</td>\n",
       "      <td>2</td>\n",
       "      <td>3</td>\n",
       "      <td>yes</td>\n",
       "      <td>no</td>\n",
       "      <td>no</td>\n",
       "      <td>no</td>\n",
       "      <td>yes</td>\n",
       "      <td>2</td>\n",
       "      <td>yes</td>\n",
       "      <td>furnished</td>\n",
       "    </tr>\n",
       "    <tr>\n",
       "      <th>1</th>\n",
       "      <td>12250000</td>\n",
       "      <td>8960</td>\n",
       "      <td>4</td>\n",
       "      <td>4</td>\n",
       "      <td>4</td>\n",
       "      <td>yes</td>\n",
       "      <td>no</td>\n",
       "      <td>no</td>\n",
       "      <td>no</td>\n",
       "      <td>yes</td>\n",
       "      <td>3</td>\n",
       "      <td>no</td>\n",
       "      <td>furnished</td>\n",
       "    </tr>\n",
       "    <tr>\n",
       "      <th>2</th>\n",
       "      <td>12250000</td>\n",
       "      <td>9960</td>\n",
       "      <td>3</td>\n",
       "      <td>2</td>\n",
       "      <td>2</td>\n",
       "      <td>yes</td>\n",
       "      <td>no</td>\n",
       "      <td>yes</td>\n",
       "      <td>no</td>\n",
       "      <td>no</td>\n",
       "      <td>2</td>\n",
       "      <td>yes</td>\n",
       "      <td>semi-furnished</td>\n",
       "    </tr>\n",
       "    <tr>\n",
       "      <th>3</th>\n",
       "      <td>12215000</td>\n",
       "      <td>7500</td>\n",
       "      <td>4</td>\n",
       "      <td>2</td>\n",
       "      <td>2</td>\n",
       "      <td>yes</td>\n",
       "      <td>no</td>\n",
       "      <td>yes</td>\n",
       "      <td>no</td>\n",
       "      <td>yes</td>\n",
       "      <td>3</td>\n",
       "      <td>yes</td>\n",
       "      <td>furnished</td>\n",
       "    </tr>\n",
       "    <tr>\n",
       "      <th>4</th>\n",
       "      <td>11410000</td>\n",
       "      <td>7420</td>\n",
       "      <td>4</td>\n",
       "      <td>1</td>\n",
       "      <td>2</td>\n",
       "      <td>yes</td>\n",
       "      <td>yes</td>\n",
       "      <td>yes</td>\n",
       "      <td>no</td>\n",
       "      <td>yes</td>\n",
       "      <td>2</td>\n",
       "      <td>no</td>\n",
       "      <td>furnished</td>\n",
       "    </tr>\n",
       "  </tbody>\n",
       "</table>\n",
       "</div>"
      ],
      "text/plain": [
       "      price  area  bedrooms  bathrooms  stories mainroad guestroom basement  \\\n",
       "0  13300000  7420         4          2        3      yes        no       no   \n",
       "1  12250000  8960         4          4        4      yes        no       no   \n",
       "2  12250000  9960         3          2        2      yes        no      yes   \n",
       "3  12215000  7500         4          2        2      yes        no      yes   \n",
       "4  11410000  7420         4          1        2      yes       yes      yes   \n",
       "\n",
       "  hotwaterheating airconditioning  parking prefarea furnishingstatus  \n",
       "0              no             yes        2      yes        furnished  \n",
       "1              no             yes        3       no        furnished  \n",
       "2              no              no        2      yes   semi-furnished  \n",
       "3              no             yes        3      yes        furnished  \n",
       "4              no             yes        2       no        furnished  "
      ]
     },
     "execution_count": 2,
     "metadata": {},
     "output_type": "execute_result"
    }
   ],
   "source": [
    "housing = pd.DataFrame(pd.read_csv('Housing.csv'))\n",
    "housing.head()"
   ]
  },
  {
   "cell_type": "code",
   "execution_count": 3,
   "id": "1cba17af-65ba-4270-ad15-5887e60939d3",
   "metadata": {},
   "outputs": [
    {
     "data": {
      "text/plain": [
       "545"
      ]
     },
     "execution_count": 3,
     "metadata": {},
     "output_type": "execute_result"
    }
   ],
   "source": [
    "m = len(housing)\n",
    "m"
   ]
  },
  {
   "cell_type": "code",
   "execution_count": 4,
   "id": "0f76ce66-b355-411e-85f1-a193f0e1b3a8",
   "metadata": {},
   "outputs": [
    {
     "data": {
      "text/plain": [
       "(545, 13)"
      ]
     },
     "execution_count": 4,
     "metadata": {},
     "output_type": "execute_result"
    }
   ],
   "source": [
    "housing.shape"
   ]
  },
  {
   "cell_type": "code",
   "execution_count": 5,
   "id": "943f11c2-3260-43d6-8087-ed6b7cdea2af",
   "metadata": {},
   "outputs": [
    {
     "data": {
      "text/html": [
       "<div>\n",
       "<style scoped>\n",
       "    .dataframe tbody tr th:only-of-type {\n",
       "        vertical-align: middle;\n",
       "    }\n",
       "\n",
       "    .dataframe tbody tr th {\n",
       "        vertical-align: top;\n",
       "    }\n",
       "\n",
       "    .dataframe thead th {\n",
       "        text-align: right;\n",
       "    }\n",
       "</style>\n",
       "<table border=\"1\" class=\"dataframe\">\n",
       "  <thead>\n",
       "    <tr style=\"text-align: right;\">\n",
       "      <th></th>\n",
       "      <th>price</th>\n",
       "      <th>area</th>\n",
       "      <th>bedrooms</th>\n",
       "      <th>bathrooms</th>\n",
       "      <th>stories</th>\n",
       "      <th>mainroad</th>\n",
       "      <th>guestroom</th>\n",
       "      <th>basement</th>\n",
       "      <th>hotwaterheating</th>\n",
       "      <th>airconditioning</th>\n",
       "      <th>parking</th>\n",
       "      <th>prefarea</th>\n",
       "      <th>furnishingstatus</th>\n",
       "    </tr>\n",
       "  </thead>\n",
       "  <tbody>\n",
       "    <tr>\n",
       "      <th>0</th>\n",
       "      <td>13300000</td>\n",
       "      <td>7420</td>\n",
       "      <td>4</td>\n",
       "      <td>2</td>\n",
       "      <td>3</td>\n",
       "      <td>1</td>\n",
       "      <td>0</td>\n",
       "      <td>0</td>\n",
       "      <td>0</td>\n",
       "      <td>1</td>\n",
       "      <td>2</td>\n",
       "      <td>1</td>\n",
       "      <td>furnished</td>\n",
       "    </tr>\n",
       "    <tr>\n",
       "      <th>1</th>\n",
       "      <td>12250000</td>\n",
       "      <td>8960</td>\n",
       "      <td>4</td>\n",
       "      <td>4</td>\n",
       "      <td>4</td>\n",
       "      <td>1</td>\n",
       "      <td>0</td>\n",
       "      <td>0</td>\n",
       "      <td>0</td>\n",
       "      <td>1</td>\n",
       "      <td>3</td>\n",
       "      <td>0</td>\n",
       "      <td>furnished</td>\n",
       "    </tr>\n",
       "    <tr>\n",
       "      <th>2</th>\n",
       "      <td>12250000</td>\n",
       "      <td>9960</td>\n",
       "      <td>3</td>\n",
       "      <td>2</td>\n",
       "      <td>2</td>\n",
       "      <td>1</td>\n",
       "      <td>0</td>\n",
       "      <td>1</td>\n",
       "      <td>0</td>\n",
       "      <td>0</td>\n",
       "      <td>2</td>\n",
       "      <td>1</td>\n",
       "      <td>semi-furnished</td>\n",
       "    </tr>\n",
       "    <tr>\n",
       "      <th>3</th>\n",
       "      <td>12215000</td>\n",
       "      <td>7500</td>\n",
       "      <td>4</td>\n",
       "      <td>2</td>\n",
       "      <td>2</td>\n",
       "      <td>1</td>\n",
       "      <td>0</td>\n",
       "      <td>1</td>\n",
       "      <td>0</td>\n",
       "      <td>1</td>\n",
       "      <td>3</td>\n",
       "      <td>1</td>\n",
       "      <td>furnished</td>\n",
       "    </tr>\n",
       "    <tr>\n",
       "      <th>4</th>\n",
       "      <td>11410000</td>\n",
       "      <td>7420</td>\n",
       "      <td>4</td>\n",
       "      <td>1</td>\n",
       "      <td>2</td>\n",
       "      <td>1</td>\n",
       "      <td>1</td>\n",
       "      <td>1</td>\n",
       "      <td>0</td>\n",
       "      <td>1</td>\n",
       "      <td>2</td>\n",
       "      <td>0</td>\n",
       "      <td>furnished</td>\n",
       "    </tr>\n",
       "  </tbody>\n",
       "</table>\n",
       "</div>"
      ],
      "text/plain": [
       "      price  area  bedrooms  bathrooms  stories  mainroad  guestroom  \\\n",
       "0  13300000  7420         4          2        3         1          0   \n",
       "1  12250000  8960         4          4        4         1          0   \n",
       "2  12250000  9960         3          2        2         1          0   \n",
       "3  12215000  7500         4          2        2         1          0   \n",
       "4  11410000  7420         4          1        2         1          1   \n",
       "\n",
       "   basement  hotwaterheating  airconditioning  parking  prefarea  \\\n",
       "0         0                0                1        2         1   \n",
       "1         0                0                1        3         0   \n",
       "2         1                0                0        2         1   \n",
       "3         1                0                1        3         1   \n",
       "4         1                0                1        2         0   \n",
       "\n",
       "  furnishingstatus  \n",
       "0        furnished  \n",
       "1        furnished  \n",
       "2   semi-furnished  \n",
       "3        furnished  \n",
       "4        furnished  "
      ]
     },
     "execution_count": 5,
     "metadata": {},
     "output_type": "execute_result"
    }
   ],
   "source": [
    "#List of variables that have string values\n",
    "varlist = ['mainroad', 'guestroom', 'basement', 'hotwaterheating', 'airconditioning', 'prefarea']\n",
    "\n",
    "#Map Function (Yes = 1, No = 0)\n",
    "def binary_map(x):\n",
    "    return x.map({'yes': 1, 'no': 0})\n",
    "\n",
    "#Applying function to housing list\n",
    "housing[varlist] = housing[varlist].apply(binary_map)\n",
    "\n",
    "#Checking housing dataframe\n",
    "housing.head()"
   ]
  },
  {
   "cell_type": "code",
   "execution_count": 6,
   "id": "2f5b0a0e-1f38-4538-865d-c3a2c5b1e3db",
   "metadata": {},
   "outputs": [
    {
     "data": {
      "text/plain": [
       "((436, 13), (109, 13))"
      ]
     },
     "execution_count": 6,
     "metadata": {},
     "output_type": "execute_result"
    }
   ],
   "source": [
    "#Splitting data into training and testing sets\n",
    "from sklearn.model_selection import train_test_split\n",
    "\n",
    "#Specify this so the training and testing data sets have the same rows, respectively\n",
    "np.random.seed(0)\n",
    "df_train, df_test = train_test_split(housing, train_size = 0.8, test_size = 0.2)\n",
    "df_train.shape, df_test.shape"
   ]
  },
  {
   "cell_type": "code",
   "execution_count": 7,
   "id": "b16af535-0816-49bd-9a0e-0c8ca9d1f99e",
   "metadata": {},
   "outputs": [
    {
     "data": {
      "text/html": [
       "<div>\n",
       "<style scoped>\n",
       "    .dataframe tbody tr th:only-of-type {\n",
       "        vertical-align: middle;\n",
       "    }\n",
       "\n",
       "    .dataframe tbody tr th {\n",
       "        vertical-align: top;\n",
       "    }\n",
       "\n",
       "    .dataframe thead th {\n",
       "        text-align: right;\n",
       "    }\n",
       "</style>\n",
       "<table border=\"1\" class=\"dataframe\">\n",
       "  <thead>\n",
       "    <tr style=\"text-align: right;\">\n",
       "      <th></th>\n",
       "      <th>area</th>\n",
       "      <th>bedrooms</th>\n",
       "      <th>bathrooms</th>\n",
       "      <th>stories</th>\n",
       "      <th>mainroad</th>\n",
       "      <th>guestroom</th>\n",
       "      <th>basement</th>\n",
       "      <th>hotwaterheating</th>\n",
       "      <th>airconditioning</th>\n",
       "      <th>parking</th>\n",
       "      <th>prefarea</th>\n",
       "      <th>price</th>\n",
       "    </tr>\n",
       "  </thead>\n",
       "  <tbody>\n",
       "    <tr>\n",
       "      <th>542</th>\n",
       "      <td>3620</td>\n",
       "      <td>2</td>\n",
       "      <td>1</td>\n",
       "      <td>1</td>\n",
       "      <td>1</td>\n",
       "      <td>0</td>\n",
       "      <td>0</td>\n",
       "      <td>0</td>\n",
       "      <td>0</td>\n",
       "      <td>0</td>\n",
       "      <td>0</td>\n",
       "      <td>1750000</td>\n",
       "    </tr>\n",
       "    <tr>\n",
       "      <th>496</th>\n",
       "      <td>4000</td>\n",
       "      <td>2</td>\n",
       "      <td>1</td>\n",
       "      <td>1</td>\n",
       "      <td>1</td>\n",
       "      <td>0</td>\n",
       "      <td>0</td>\n",
       "      <td>0</td>\n",
       "      <td>0</td>\n",
       "      <td>0</td>\n",
       "      <td>0</td>\n",
       "      <td>2695000</td>\n",
       "    </tr>\n",
       "    <tr>\n",
       "      <th>484</th>\n",
       "      <td>3040</td>\n",
       "      <td>2</td>\n",
       "      <td>1</td>\n",
       "      <td>1</td>\n",
       "      <td>0</td>\n",
       "      <td>0</td>\n",
       "      <td>0</td>\n",
       "      <td>0</td>\n",
       "      <td>0</td>\n",
       "      <td>0</td>\n",
       "      <td>0</td>\n",
       "      <td>2870000</td>\n",
       "    </tr>\n",
       "    <tr>\n",
       "      <th>507</th>\n",
       "      <td>3600</td>\n",
       "      <td>2</td>\n",
       "      <td>1</td>\n",
       "      <td>1</td>\n",
       "      <td>1</td>\n",
       "      <td>0</td>\n",
       "      <td>0</td>\n",
       "      <td>0</td>\n",
       "      <td>0</td>\n",
       "      <td>0</td>\n",
       "      <td>0</td>\n",
       "      <td>2590000</td>\n",
       "    </tr>\n",
       "    <tr>\n",
       "      <th>252</th>\n",
       "      <td>9860</td>\n",
       "      <td>3</td>\n",
       "      <td>1</td>\n",
       "      <td>1</td>\n",
       "      <td>1</td>\n",
       "      <td>0</td>\n",
       "      <td>0</td>\n",
       "      <td>0</td>\n",
       "      <td>0</td>\n",
       "      <td>0</td>\n",
       "      <td>0</td>\n",
       "      <td>4515000</td>\n",
       "    </tr>\n",
       "  </tbody>\n",
       "</table>\n",
       "</div>"
      ],
      "text/plain": [
       "     area  bedrooms  bathrooms  stories  mainroad  guestroom  basement  \\\n",
       "542  3620         2          1        1         1          0         0   \n",
       "496  4000         2          1        1         1          0         0   \n",
       "484  3040         2          1        1         0          0         0   \n",
       "507  3600         2          1        1         1          0         0   \n",
       "252  9860         3          1        1         1          0         0   \n",
       "\n",
       "     hotwaterheating  airconditioning  parking  prefarea    price  \n",
       "542                0                0        0         0  1750000  \n",
       "496                0                0        0         0  2695000  \n",
       "484                0                0        0         0  2870000  \n",
       "507                0                0        0         0  2590000  \n",
       "252                0                0        0         0  4515000  "
      ]
     },
     "execution_count": 7,
     "metadata": {},
     "output_type": "execute_result"
    }
   ],
   "source": [
    "num_vars = ['area', 'bedrooms', 'bathrooms', 'stories', 'mainroad', 'guestroom', 'basement', 'hotwaterheating', 'airconditioning', 'parking', 'prefarea', 'price']\n",
    "df_Newtrain = df_train[num_vars]\n",
    "df_Newtest = df_test[num_vars]\n",
    "df_Newtrain.head()"
   ]
  },
  {
   "cell_type": "code",
   "execution_count": 8,
   "id": "3a2c937a-cfad-4873-96b9-ada461baa77c",
   "metadata": {},
   "outputs": [
    {
     "data": {
      "text/plain": [
       "(         area  bedrooms  bathrooms   stories  mainroad  guestroom  basement  \\\n",
       " 542  0.124199       0.2        0.0  0.000000       1.0        0.0       0.0   \n",
       " 496  0.150654       0.2        0.0  0.000000       1.0        0.0       0.0   \n",
       " 484  0.083821       0.2        0.0  0.000000       0.0        0.0       0.0   \n",
       " 507  0.122807       0.2        0.0  0.000000       1.0        0.0       0.0   \n",
       " 252  0.558619       0.4        0.0  0.000000       1.0        0.0       0.0   \n",
       " 263  0.148427       0.4        0.0  0.333333       0.0        0.0       0.0   \n",
       " 240  0.139515       0.4        0.0  0.333333       1.0        0.0       0.0   \n",
       " 175  0.554442       0.6        0.5  0.333333       1.0        1.0       0.0   \n",
       " 385  0.125592       0.2        0.0  0.000000       1.0        0.0       0.0   \n",
       " 374  0.117238       0.2        0.5  0.000000       1.0        0.0       1.0   \n",
       " \n",
       "      hotwaterheating  airconditioning   parking  prefarea     price  \n",
       " 542              0.0              0.0  0.000000       0.0  0.000000  \n",
       " 496              0.0              0.0  0.000000       0.0  0.081818  \n",
       " 484              0.0              0.0  0.000000       0.0  0.096970  \n",
       " 507              0.0              0.0  0.000000       0.0  0.072727  \n",
       " 252              0.0              0.0  0.000000       0.0  0.239394  \n",
       " 263              0.0              0.0  0.000000       0.0  0.230303  \n",
       " 240              0.0              0.0  0.333333       1.0  0.245455  \n",
       " 175              0.0              0.0  0.666667       0.0  0.303030  \n",
       " 385              0.0              0.0  0.000000       0.0  0.157576  \n",
       " 374              0.0              0.0  0.000000       0.0  0.163636  ,\n",
       "          area  bedrooms  bathrooms   stories  mainroad  guestroom  basement  \\\n",
       " 239  0.203463      0.50   0.000000  0.333333       1.0        0.0       0.0   \n",
       " 113  0.690043      0.50   0.000000  0.000000       1.0        0.0       1.0   \n",
       " 325  0.156710      0.75   0.000000  0.333333       1.0        0.0       0.0   \n",
       " 66   1.000000      0.25   0.000000  0.000000       1.0        0.0       1.0   \n",
       " 479  0.174026      0.75   0.000000  0.333333       0.0        0.0       0.0   \n",
       " 103  0.406926      0.50   0.333333  0.666667       1.0        1.0       0.0   \n",
       " 386  0.190476      0.50   0.000000  0.000000       1.0        0.0       0.0   \n",
       " 480  0.158442      0.50   0.000000  0.333333       0.0        0.0       0.0   \n",
       " 400  0.161212      0.25   0.000000  0.000000       1.0        0.0       0.0   \n",
       " 37   0.636364      0.75   0.333333  1.000000       1.0        0.0       0.0   \n",
       " \n",
       "      hotwaterheating  airconditioning   parking  prefarea     price  \n",
       " 239              0.0              0.0  0.333333       0.0  0.270000  \n",
       " 113              0.0              0.0  0.666667       1.0  0.412667  \n",
       " 325              0.0              1.0  0.000000       0.0  0.215000  \n",
       " 66               1.0              0.0  0.333333       0.0  0.493333  \n",
       " 479              0.0              0.0  0.000000       0.0  0.113333  \n",
       " 103              0.0              1.0  0.000000       0.0  0.423333  \n",
       " 386              0.0              0.0  0.666667       0.0  0.170000  \n",
       " 480              0.0              0.0  0.333333       0.0  0.113333  \n",
       " 400              0.0              0.0  0.333333       1.0  0.166667  \n",
       " 37               0.0              1.0  0.666667       0.0  0.593333  )"
      ]
     },
     "execution_count": 8,
     "metadata": {},
     "output_type": "execute_result"
    }
   ],
   "source": [
    "import warnings\n",
    "warnings.filterwarnings('ignore')\n",
    "\n",
    "from sklearn.preprocessing import MinMaxScaler, StandardScaler\n",
    "m_scaler = MinMaxScaler()\n",
    "s_scaler = StandardScaler()\n",
    "\n",
    "df_Newtrain[num_vars] = m_scaler.fit_transform(df_Newtrain[num_vars])\n",
    "df_Newtest[num_vars] = m_scaler.fit_transform(df_Newtest[num_vars])\n",
    "df_Newtrain.head(10), df_Newtest.head(10)"
   ]
  },
  {
   "cell_type": "code",
   "execution_count": 9,
   "id": "cb6464ca-f293-4e0d-9eb4-d0e11c7ae1ef",
   "metadata": {},
   "outputs": [],
   "source": [
    "Y_Normtrain = df_Newtrain.pop('price')\n",
    "X_Normtrain = df_Newtrain.copy()\n",
    "Y_Normtest = df_Newtest.pop('price')\n",
    "X_Normtest = df_Newtest.copy()"
   ]
  },
  {
   "cell_type": "code",
   "execution_count": 10,
   "id": "1b51e776-7707-45aa-a5de-9dc6c72819e0",
   "metadata": {},
   "outputs": [
    {
     "data": {
      "text/plain": [
       "(436, 11)"
      ]
     },
     "execution_count": 10,
     "metadata": {},
     "output_type": "execute_result"
    }
   ],
   "source": [
    "df_Newtrain.shape"
   ]
  },
  {
   "cell_type": "code",
   "execution_count": 26,
   "id": "a7ccf3ee-39ed-4dfc-ba94-31a79e1794c6",
   "metadata": {},
   "outputs": [
    {
     "data": {
      "text/plain": [
       "array([0.12419939, 0.15065441, 0.08382066, 0.12280702, 0.55861877])"
      ]
     },
     "execution_count": 26,
     "metadata": {},
     "output_type": "execute_result"
    }
   ],
   "source": [
    "X1 = X_Normtrain.values[:, 0] #Area values\n",
    "X2 = X_Normtrain.values[:, 1] #Bedroom values\n",
    "X3 = X_Normtrain.values[:, 2] #Bathroom values\n",
    "X4 = X_Normtrain.values[:, 3] #Stories values\n",
    "X5 = X_Normtrain.values[:, 4] #Mainroad values\n",
    "X6 = X_Normtrain.values[:, 5] #Guestroom values\n",
    "X7 = X_Normtrain.values[:, 6] #Basement values\n",
    "X8 = X_Normtrain.values[:, 7] #Hotwaterheating values\n",
    "X9 = X_Normtrain.values[:, 8] #AC values\n",
    "X10 = X_Normtrain.values[:, 9] #Parking values\n",
    "X11 = X_Normtrain.values[:, 10] #Prefarea values\n",
    "\n",
    "X1_test = X_Normtest.values[:, 0] #Area values\n",
    "X2_test = X_Normtest.values[:, 1] #Bedroom values\n",
    "X3_test = X_Normtest.values[:, 2] #Bathroom values\n",
    "X4_test = X_Normtest.values[:, 3] #Stories values\n",
    "X5_test = X_Normtest.values[:, 4] #Mainroad values\n",
    "X6_test = X_Normtest.values[:, 5] #Guestroom values\n",
    "X7_test = X_Normtest.values[:, 6] #Basement values\n",
    "X8_test = X_Normtest.values[:, 7] #Hotwaterheating values\n",
    "X9_test = X_Normtest.values[:, 8] #AC values\n",
    "X10_test = X_Normtest.values[:, 9] #Parking values\n",
    "X11_test = X_Normtest.values[:, 10] #Prefarea values\n",
    "\n",
    "\n",
    "X1[:5]"
   ]
  },
  {
   "cell_type": "code",
   "execution_count": 12,
   "id": "0c57197f-19d7-4b6b-adb0-050506566f90",
   "metadata": {},
   "outputs": [
    {
     "data": {
      "text/plain": [
       "542    1750000\n",
       "496    2695000\n",
       "484    2870000\n",
       "507    2590000\n",
       "252    4515000\n",
       "        ...   \n",
       "70     6790000\n",
       "277    4305000\n",
       "9      9800000\n",
       "359    3710000\n",
       "192    5040000\n",
       "Name: price, Length: 436, dtype: int64"
      ]
     },
     "execution_count": 12,
     "metadata": {},
     "output_type": "execute_result"
    }
   ],
   "source": [
    "#Y = Y_Normtrain.values #Pricing values\n",
    "#Y_test = Y_Normtest.values #Pricing values\n",
    "\n",
    "Y = df_train['price']\n",
    "Y_test = df_test['price']\n",
    "Y"
   ]
  },
  {
   "cell_type": "code",
   "execution_count": 13,
   "id": "b0f4ffe2-050c-4cf1-b838-2bb1fdbc267d",
   "metadata": {},
   "outputs": [
    {
     "data": {
      "text/plain": [
       "(436, 109)"
      ]
     },
     "execution_count": 13,
     "metadata": {},
     "output_type": "execute_result"
    }
   ],
   "source": [
    "m_train = len(Y_Normtrain)\n",
    "m_test = len(Y_Normtest)\n",
    "m_train, m_test"
   ]
  },
  {
   "cell_type": "code",
   "execution_count": 14,
   "id": "824e9b05-1980-419f-8724-2f102c168637",
   "metadata": {},
   "outputs": [],
   "source": [
    "X_0 = np.ones((m_train, 1))\n",
    "X_0_test = np.ones((m_test, 1))"
   ]
  },
  {
   "cell_type": "code",
   "execution_count": 15,
   "id": "0a5dfa47-a765-45d8-b543-57c5e8d879fb",
   "metadata": {},
   "outputs": [],
   "source": [
    "#Reshape function used to convert X from 1D to 2D array of m x 1\n",
    "X_1 = X1.reshape(m_train, 1)\n",
    "X_2 = X2.reshape(m_train, 1)\n",
    "X_3 = X3.reshape(m_train, 1)\n",
    "X_4 = X4.reshape(m_train, 1)\n",
    "X_5 = X5.reshape(m_train, 1)\n",
    "X_6 = X6.reshape(m_train, 1)\n",
    "X_7 = X7.reshape(m_train, 1)\n",
    "X_8 = X8.reshape(m_train, 1)\n",
    "X_9 = X9.reshape(m_train, 1)\n",
    "X_10 = X10.reshape(m_train, 1)\n",
    "X_11 = X11.reshape(m_train, 1)\n",
    "\n",
    "X_1_test = X1_test.reshape(m_test, 1)\n",
    "X_2_test = X2_test.reshape(m_test, 1)\n",
    "X_3_test = X3_test.reshape(m_test, 1)\n",
    "X_4_test = X4_test.reshape(m_test, 1)\n",
    "X_5_test = X5_test.reshape(m_test, 1)\n",
    "X_6_test = X6_test.reshape(m_test, 1)\n",
    "X_7_test = X7_test.reshape(m_test, 1)\n",
    "X_8_test = X8_test.reshape(m_test, 1)\n",
    "X_9_test = X9_test.reshape(m_test, 1)\n",
    "X_10_test = X10_test.reshape(m_test, 1)\n",
    "X_11_test = X11_test.reshape(m_test, 1)"
   ]
  },
  {
   "cell_type": "code",
   "execution_count": 16,
   "id": "7ba819f1-3a2b-44c6-9bcd-2dc0011e4d69",
   "metadata": {},
   "outputs": [],
   "source": [
    "#hstack() function from numpy to have X_0 to X_11 in one final Matrix\n",
    "X = np.hstack((X_0, X_1, X_2, X_3, X_4, X_5, X_6, X_7, X_8, X_9, X_10, X_11))\n",
    "X_test = np.hstack((X_0_test, X_1_test, X_2_test, X_3_test, X_4_test, X_5_test, X_6_test, X_7_test, X_8_test, X_9_test, X_10_test, X_11_test))"
   ]
  },
  {
   "cell_type": "code",
   "execution_count": 17,
   "id": "936220fc-7301-4062-bfec-c428dc5e819e",
   "metadata": {},
   "outputs": [],
   "source": [
    "theta = np.zeros(12)\n",
    "theta\n",
    "\n",
    "lambda_val = 20"
   ]
  },
  {
   "cell_type": "code",
   "execution_count": 18,
   "id": "2934422c-41e6-4342-a806-c561d2baa5f0",
   "metadata": {},
   "outputs": [],
   "source": [
    "def compute_cost(X, Y, theta, Lambda):\n",
    "    predictions = X.dot(theta)\n",
    "    errors = np.subtract(predictions, Y)\n",
    "    sqrErrors = np.square(errors)\n",
    "    pen_parameter = np.square(theta)\n",
    "    penalty = Lambda * np.sum(pen_parameter)\n",
    "    J = 1 / (2 *m) * (np.sum(sqrErrors) + penalty)\n",
    "    \n",
    "    return J"
   ]
  },
  {
   "cell_type": "code",
   "execution_count": 19,
   "id": "c00590b6-2d31-4052-a54f-6e8d0057ee44",
   "metadata": {},
   "outputs": [
    {
     "name": "stdout",
     "output_type": "stream",
     "text": [
      "The cost for given values of theta_0 and theta_1 = 10587991986906.973\n"
     ]
    }
   ],
   "source": [
    "cost = compute_cost(X, Y, theta, lambda_val)\n",
    "print('The cost for given values of theta_0 and theta_1 =', cost)"
   ]
  },
  {
   "cell_type": "code",
   "execution_count": 20,
   "id": "305038cf-0081-48f4-b9d3-c7d96dd3e8dc",
   "metadata": {},
   "outputs": [],
   "source": [
    "def gradient_descent(X, Y, theta, alpha, iterations, Lambda):\n",
    "    cost_history = np.zeros(iterations)\n",
    "    \n",
    "    for i in range(iterations):\n",
    "        predictions = X.dot(theta)\n",
    "        errors = np.subtract(predictions, Y)\n",
    "        pen_parameter = np.square(errors)\n",
    "        penalty = np.multiply((Lambda/m), theta)\n",
    "        sum_delta = (alpha / m) * (X.transpose().dot(errors) + penalty) \n",
    "        theta = theta - sum_delta;\n",
    "        cost_history[i] = compute_cost(X, Y, theta, Lambda)\n",
    "        \n",
    "    return theta, cost_history"
   ]
  },
  {
   "cell_type": "code",
   "execution_count": 21,
   "id": "39ffcaa3-9132-480e-9f39-63a257108803",
   "metadata": {},
   "outputs": [],
   "source": [
    "theta = [0., 0., 0., 0., 0., 0., 0., 0., 0., 0., 0., 0.]\n",
    "theta_test = [0., 0., 0., 0., 0., 0., 0., 0., 0., 0., 0., 0.]\n",
    "iterations = 1500;\n",
    "alpha = 0.01;"
   ]
  },
  {
   "cell_type": "code",
   "execution_count": 22,
   "id": "272be676-335b-4209-8f16-3fa2a22a64fc",
   "metadata": {},
   "outputs": [
    {
     "name": "stdout",
     "output_type": "stream",
     "text": [
      "Final value of theta = [1759877.76943097 1108860.11158334 1031033.24636703 1335344.822361\n",
      " 1155063.09637451  991156.84451268  510053.91835948  373255.00381997\n",
      "  544881.15113297 1061902.68790533  933494.73014087  820168.05887718]\n",
      "cost_history = [1.01942533e+13 9.81646181e+12 9.45397376e+12 ... 7.88151801e+11\n",
      " 7.88146946e+11 7.88142132e+11]\n",
      "Final value of theta_test = [1736611.99818411 1252319.32937926 1032223.14790143 1481733.33598792\n",
      " 1242962.91416219  902151.26340881  307938.85974743  319909.00756437\n",
      "  502816.54120723 1055938.94864623 1098349.24036173  579614.4839671 ]\n",
      "cost_history_test = [3.46256003e+11 3.46203102e+11 3.46150541e+11 ... 3.40934810e+11\n",
      " 3.40939661e+11 3.40944515e+11]\n"
     ]
    }
   ],
   "source": [
    "theta, cost_history = gradient_descent(X, Y, theta, alpha, iterations, lambda_val)\n",
    "theta_test, cost_history_test = gradient_descent(X_test, Y_test, theta, alpha, iterations, lambda_val)\n",
    "print('Final value of theta =', theta)\n",
    "print('cost_history =', cost_history)\n",
    "print('Final value of theta_test =', theta_test)\n",
    "print('cost_history_test =', cost_history_test)"
   ]
  },
  {
   "cell_type": "code",
   "execution_count": 23,
   "id": "88189d1d-1350-4bb8-a970-ca60dd568fc2",
   "metadata": {},
   "outputs": [
    {
     "data": {
      "text/plain": [
       "Text(0.5, 1.0, 'Convergence of gradient descent')"
      ]
     },
     "execution_count": 23,
     "metadata": {},
     "output_type": "execute_result"
    },
    {
     "data": {
      "image/png": "[encoded data removed]",
      "text/plain": [
       "<Figure size 432x288 with 1 Axes>"
      ]
     },
     "metadata": {
      "needs_background": "light"
     },
     "output_type": "display_data"
    }
   ],
   "source": [
    "plt.plot(range(1, iterations + 1), cost_history, color = 'blue')\n",
    "plt.plot(range(1, iterations + 1), cost_history_test, color = 'red')\n",
    "plt.rcParams[\"figure.figsize\"] = (10,6)\n",
    "plt.grid()\n",
    "plt.xlabel('Number of iterations')\n",
    "plt.ylabel('Cost (J)')\n",
    "plt.title('Convergence of gradient descent')"
   ]
  },
  {
   "cell_type": "code",
   "execution_count": null,
   "id": "98d5f5fd-e8e5-44fb-a68e-e64262cf1175",
   "metadata": {},
   "outputs": [],
   "source": []
  }
 ],
 "metadata": {
  "kernelspec": {
   "display_name": "Python 3 (ipykernel)",
   "language": "python",
   "name": "python3"
  },
  "language_info": {
   "codemirror_mode": {
    "name": "ipython",
    "version": 3
   },
   "file_extension": ".py",
   "mimetype": "text/x-python",
   "name": "python",
   "nbconvert_exporter": "python",
   "pygments_lexer": "ipython3",
   "version": "3.9.12"
  }
 },
 "nbformat": 4,
 "nbformat_minor": 5
}
