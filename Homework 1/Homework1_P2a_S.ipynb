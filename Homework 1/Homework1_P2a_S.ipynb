{
 "cells": [
  {
   "cell_type": "code",
   "execution_count": 39,
   "id": "c0a865c2-b3a9-40f8-bcce-1d5840fb3a4a",
   "metadata": {},
   "outputs": [],
   "source": [
    "import numpy as np\n",
    "import pandas as pd\n",
    "import matplotlib.pyplot as plt\n",
    "import seaborn as sns"
   ]
  },
  {
   "cell_type": "code",
   "execution_count": 40,
   "id": "d4b42632-defb-446e-acac-f9b394c22e79",
   "metadata": {
    "tags": []
   },
   "outputs": [
    {
     "data": {
      "text/html": [
       "<div>\n",
       "<style scoped>\n",
       "    .dataframe tbody tr th:only-of-type {\n",
       "        vertical-align: middle;\n",
       "    }\n",
       "\n",
       "    .dataframe tbody tr th {\n",
       "        vertical-align: top;\n",
       "    }\n",
       "\n",
       "    .dataframe thead th {\n",
       "        text-align: right;\n",
       "    }\n",
       "</style>\n",
       "<table border=\"1\" class=\"dataframe\">\n",
       "  <thead>\n",
       "    <tr style=\"text-align: right;\">\n",
       "      <th></th>\n",
       "      <th>price</th>\n",
       "      <th>area</th>\n",
       "      <th>bedrooms</th>\n",
       "      <th>bathrooms</th>\n",
       "      <th>stories</th>\n",
       "      <th>mainroad</th>\n",
       "      <th>guestroom</th>\n",
       "      <th>basement</th>\n",
       "      <th>hotwaterheating</th>\n",
       "      <th>airconditioning</th>\n",
       "      <th>parking</th>\n",
       "      <th>prefarea</th>\n",
       "      <th>furnishingstatus</th>\n",
       "    </tr>\n",
       "  </thead>\n",
       "  <tbody>\n",
       "    <tr>\n",
       "      <th>0</th>\n",
       "      <td>13300000</td>\n",
       "      <td>7420</td>\n",
       "      <td>4</td>\n",
       "      <td>2</td>\n",
       "      <td>3</td>\n",
       "      <td>yes</td>\n",
       "      <td>no</td>\n",
       "      <td>no</td>\n",
       "      <td>no</td>\n",
       "      <td>yes</td>\n",
       "      <td>2</td>\n",
       "      <td>yes</td>\n",
       "      <td>furnished</td>\n",
       "    </tr>\n",
       "    <tr>\n",
       "      <th>1</th>\n",
       "      <td>12250000</td>\n",
       "      <td>8960</td>\n",
       "      <td>4</td>\n",
       "      <td>4</td>\n",
       "      <td>4</td>\n",
       "      <td>yes</td>\n",
       "      <td>no</td>\n",
       "      <td>no</td>\n",
       "      <td>no</td>\n",
       "      <td>yes</td>\n",
       "      <td>3</td>\n",
       "      <td>no</td>\n",
       "      <td>furnished</td>\n",
       "    </tr>\n",
       "    <tr>\n",
       "      <th>2</th>\n",
       "      <td>12250000</td>\n",
       "      <td>9960</td>\n",
       "      <td>3</td>\n",
       "      <td>2</td>\n",
       "      <td>2</td>\n",
       "      <td>yes</td>\n",
       "      <td>no</td>\n",
       "      <td>yes</td>\n",
       "      <td>no</td>\n",
       "      <td>no</td>\n",
       "      <td>2</td>\n",
       "      <td>yes</td>\n",
       "      <td>semi-furnished</td>\n",
       "    </tr>\n",
       "    <tr>\n",
       "      <th>3</th>\n",
       "      <td>12215000</td>\n",
       "      <td>7500</td>\n",
       "      <td>4</td>\n",
       "      <td>2</td>\n",
       "      <td>2</td>\n",
       "      <td>yes</td>\n",
       "      <td>no</td>\n",
       "      <td>yes</td>\n",
       "      <td>no</td>\n",
       "      <td>yes</td>\n",
       "      <td>3</td>\n",
       "      <td>yes</td>\n",
       "      <td>furnished</td>\n",
       "    </tr>\n",
       "    <tr>\n",
       "      <th>4</th>\n",
       "      <td>11410000</td>\n",
       "      <td>7420</td>\n",
       "      <td>4</td>\n",
       "      <td>1</td>\n",
       "      <td>2</td>\n",
       "      <td>yes</td>\n",
       "      <td>yes</td>\n",
       "      <td>yes</td>\n",
       "      <td>no</td>\n",
       "      <td>yes</td>\n",
       "      <td>2</td>\n",
       "      <td>no</td>\n",
       "      <td>furnished</td>\n",
       "    </tr>\n",
       "  </tbody>\n",
       "</table>\n",
       "</div>"
      ],
      "text/plain": [
       "      price  area  bedrooms  bathrooms  stories mainroad guestroom basement  \\\n",
       "0  13300000  7420         4          2        3      yes        no       no   \n",
       "1  12250000  8960         4          4        4      yes        no       no   \n",
       "2  12250000  9960         3          2        2      yes        no      yes   \n",
       "3  12215000  7500         4          2        2      yes        no      yes   \n",
       "4  11410000  7420         4          1        2      yes       yes      yes   \n",
       "\n",
       "  hotwaterheating airconditioning  parking prefarea furnishingstatus  \n",
       "0              no             yes        2      yes        furnished  \n",
       "1              no             yes        3       no        furnished  \n",
       "2              no              no        2      yes   semi-furnished  \n",
       "3              no             yes        3      yes        furnished  \n",
       "4              no             yes        2       no        furnished  "
      ]
     },
     "execution_count": 40,
     "metadata": {},
     "output_type": "execute_result"
    }
   ],
   "source": [
    "housing = pd.DataFrame(pd.read_csv('Housing.csv'))\n",
    "housing.head()"
   ]
  },
  {
   "cell_type": "code",
   "execution_count": 41,
   "id": "1cba17af-65ba-4270-ad15-5887e60939d3",
   "metadata": {},
   "outputs": [
    {
     "data": {
      "text/plain": [
       "545"
      ]
     },
     "execution_count": 41,
     "metadata": {},
     "output_type": "execute_result"
    }
   ],
   "source": [
    "m = len(housing)\n",
    "m"
   ]
  },
  {
   "cell_type": "code",
   "execution_count": 42,
   "id": "0f76ce66-b355-411e-85f1-a193f0e1b3a8",
   "metadata": {},
   "outputs": [
    {
     "data": {
      "text/plain": [
       "(545, 13)"
      ]
     },
     "execution_count": 42,
     "metadata": {},
     "output_type": "execute_result"
    }
   ],
   "source": [
    "housing.shape"
   ]
  },
  {
   "cell_type": "code",
   "execution_count": 43,
   "id": "625f52f7-9d97-45c3-bf7c-12406765575e",
   "metadata": {},
   "outputs": [
    {
     "data": {
      "text/plain": [
       "((436, 13), (109, 13))"
      ]
     },
     "execution_count": 43,
     "metadata": {},
     "output_type": "execute_result"
    }
   ],
   "source": [
    "#Splitting the Data into Training and Testing Sets\n",
    "from sklearn.model_selection import train_test_split\n",
    "\n",
    "#We specify this so that the train and test data set always have the same rows, respectively\n",
    "np.random.seed(0)\n",
    "df_train, df_test = train_test_split(housing, train_size = 0.8, test_size = 0.2)\n",
    "df_train.shape, df_test.shape"
   ]
  },
  {
   "cell_type": "code",
   "execution_count": 44,
   "id": "595e4ed7-0b2d-43cf-bc8e-70a47fa8ba45",
   "metadata": {},
   "outputs": [
    {
     "data": {
      "text/html": [
       "<div>\n",
       "<style scoped>\n",
       "    .dataframe tbody tr th:only-of-type {\n",
       "        vertical-align: middle;\n",
       "    }\n",
       "\n",
       "    .dataframe tbody tr th {\n",
       "        vertical-align: top;\n",
       "    }\n",
       "\n",
       "    .dataframe thead th {\n",
       "        text-align: right;\n",
       "    }\n",
       "</style>\n",
       "<table border=\"1\" class=\"dataframe\">\n",
       "  <thead>\n",
       "    <tr style=\"text-align: right;\">\n",
       "      <th></th>\n",
       "      <th>area</th>\n",
       "      <th>bedrooms</th>\n",
       "      <th>bathrooms</th>\n",
       "      <th>stories</th>\n",
       "      <th>parking</th>\n",
       "      <th>price</th>\n",
       "    </tr>\n",
       "  </thead>\n",
       "  <tbody>\n",
       "    <tr>\n",
       "      <th>542</th>\n",
       "      <td>3620</td>\n",
       "      <td>2</td>\n",
       "      <td>1</td>\n",
       "      <td>1</td>\n",
       "      <td>0</td>\n",
       "      <td>1750000</td>\n",
       "    </tr>\n",
       "    <tr>\n",
       "      <th>496</th>\n",
       "      <td>4000</td>\n",
       "      <td>2</td>\n",
       "      <td>1</td>\n",
       "      <td>1</td>\n",
       "      <td>0</td>\n",
       "      <td>2695000</td>\n",
       "    </tr>\n",
       "    <tr>\n",
       "      <th>484</th>\n",
       "      <td>3040</td>\n",
       "      <td>2</td>\n",
       "      <td>1</td>\n",
       "      <td>1</td>\n",
       "      <td>0</td>\n",
       "      <td>2870000</td>\n",
       "    </tr>\n",
       "    <tr>\n",
       "      <th>507</th>\n",
       "      <td>3600</td>\n",
       "      <td>2</td>\n",
       "      <td>1</td>\n",
       "      <td>1</td>\n",
       "      <td>0</td>\n",
       "      <td>2590000</td>\n",
       "    </tr>\n",
       "    <tr>\n",
       "      <th>252</th>\n",
       "      <td>9860</td>\n",
       "      <td>3</td>\n",
       "      <td>1</td>\n",
       "      <td>1</td>\n",
       "      <td>0</td>\n",
       "      <td>4515000</td>\n",
       "    </tr>\n",
       "  </tbody>\n",
       "</table>\n",
       "</div>"
      ],
      "text/plain": [
       "     area  bedrooms  bathrooms  stories  parking    price\n",
       "542  3620         2          1        1        0  1750000\n",
       "496  4000         2          1        1        0  2695000\n",
       "484  3040         2          1        1        0  2870000\n",
       "507  3600         2          1        1        0  2590000\n",
       "252  9860         3          1        1        0  4515000"
      ]
     },
     "execution_count": 44,
     "metadata": {},
     "output_type": "execute_result"
    }
   ],
   "source": [
    "num_vars = ['area', 'bedrooms', 'bathrooms', 'stories', 'parking', 'price']\n",
    "df_Newtrain = df_train[num_vars]\n",
    "df_Newtest = df_test[num_vars]\n",
    "df_Newtrain.head()"
   ]
  },
  {
   "cell_type": "code",
   "execution_count": 45,
   "id": "493fead5-ab9d-4038-a6d4-62124269e0dd",
   "metadata": {},
   "outputs": [
    {
     "data": {
      "text/plain": [
       "((436, 6), (109, 6))"
      ]
     },
     "execution_count": 45,
     "metadata": {},
     "output_type": "execute_result"
    }
   ],
   "source": [
    "df_Newtrain.shape, df_Newtest.shape"
   ]
  },
  {
   "cell_type": "code",
   "execution_count": 46,
   "id": "57d53bf1-a81e-48af-8bf3-8d572fcd4e7c",
   "metadata": {},
   "outputs": [
    {
     "data": {
      "text/plain": [
       "(         area  bedrooms  bathrooms   stories   parking     price\n",
       " 542 -0.716772 -1.294376  -0.573307 -0.933142 -0.819149 -1.586001\n",
       " 496 -0.538936 -1.294376  -0.573307 -0.933142 -0.819149 -1.090971\n",
       " 484 -0.988206 -1.294376  -0.573307 -0.933142 -0.819149 -0.999299\n",
       " 507 -0.726132 -1.294376  -0.573307 -0.933142 -0.819149 -1.145974\n",
       " 252  2.203478  0.052516  -0.573307 -0.933142 -0.819149 -0.137579\n",
       " 263 -0.553912  0.052516  -0.573307  0.212914 -0.819149 -0.192583\n",
       " 240 -0.613815  0.052516  -0.573307  0.212914  0.325559 -0.100910\n",
       " 175  2.175399  1.399408   1.475561  0.212914  1.470267  0.247444\n",
       " 385 -0.707412 -1.294376  -0.573307 -0.933142 -0.819149 -0.632610\n",
       " 374 -0.763571 -1.294376   1.475561 -0.933142 -0.819149 -0.595941,\n",
       "          area  bedrooms  bathrooms   stories   parking     price\n",
       " 239 -0.500735  0.025607  -0.563545  0.272416  0.492144 -0.081358\n",
       " 113  1.954229  0.025607  -0.563545 -0.915317  1.739673  0.801114\n",
       " 325 -0.736621  1.421209  -0.563545  0.272416 -0.755384 -0.421563\n",
       " 66   3.518067 -1.369995  -0.563545 -0.915317  0.492144  1.300082\n",
       " 479 -0.649256  1.421209  -0.563545  0.272416 -0.755384 -1.050428\n",
       " 103  0.525807  0.025607   1.243113  1.460149 -0.755384  0.867094\n",
       " 386 -0.566259  0.025607  -0.563545 -0.915317  1.739673 -0.699913\n",
       " 480 -0.727885  0.025607  -0.563545  0.272416  0.492144 -1.050428\n",
       " 400 -0.713906 -1.369995  -0.563545 -0.915317  0.492144 -0.720532\n",
       " 37   1.683396  1.421209   1.243113  2.647882  1.739673  1.918638)"
      ]
     },
     "execution_count": 46,
     "metadata": {},
     "output_type": "execute_result"
    }
   ],
   "source": [
    "import warnings\n",
    "warnings.filterwarnings('ignore')\n",
    "\n",
    "from sklearn.preprocessing import MinMaxScaler, StandardScaler\n",
    "m_scaler = MinMaxScaler()\n",
    "s_scaler = StandardScaler()\n",
    "#MinMax First\n",
    "df_Newtrain[num_vars] = s_scaler.fit_transform(df_Newtrain[num_vars])\n",
    "df_Newtest[num_vars] = s_scaler.fit_transform(df_Newtest[num_vars])\n",
    "df_Newtrain.head(10), df_Newtest.head(10)"
   ]
  },
  {
   "cell_type": "code",
   "execution_count": 47,
   "id": "ee26a6d4-cf6a-4b3b-8fb0-a97b3fb30706",
   "metadata": {},
   "outputs": [],
   "source": [
    "Y_Normtrain = df_Newtrain.pop('price')\n",
    "X_Normtrain = df_Newtrain.copy()\n",
    "Y_Normtest = df_Newtest.pop('price')\n",
    "X_Normtest = df_Newtest.copy()"
   ]
  },
  {
   "cell_type": "code",
   "execution_count": 48,
   "id": "d3485e90-3c63-47bb-8563-fff257ed9b5d",
   "metadata": {},
   "outputs": [
    {
     "data": {
      "text/html": [
       "<div>\n",
       "<style scoped>\n",
       "    .dataframe tbody tr th:only-of-type {\n",
       "        vertical-align: middle;\n",
       "    }\n",
       "\n",
       "    .dataframe tbody tr th {\n",
       "        vertical-align: top;\n",
       "    }\n",
       "\n",
       "    .dataframe thead th {\n",
       "        text-align: right;\n",
       "    }\n",
       "</style>\n",
       "<table border=\"1\" class=\"dataframe\">\n",
       "  <thead>\n",
       "    <tr style=\"text-align: right;\">\n",
       "      <th></th>\n",
       "      <th>area</th>\n",
       "      <th>bedrooms</th>\n",
       "      <th>bathrooms</th>\n",
       "      <th>stories</th>\n",
       "      <th>parking</th>\n",
       "    </tr>\n",
       "  </thead>\n",
       "  <tbody>\n",
       "    <tr>\n",
       "      <th>542</th>\n",
       "      <td>-0.716772</td>\n",
       "      <td>-1.294376</td>\n",
       "      <td>-0.573307</td>\n",
       "      <td>-0.933142</td>\n",
       "      <td>-0.819149</td>\n",
       "    </tr>\n",
       "    <tr>\n",
       "      <th>496</th>\n",
       "      <td>-0.538936</td>\n",
       "      <td>-1.294376</td>\n",
       "      <td>-0.573307</td>\n",
       "      <td>-0.933142</td>\n",
       "      <td>-0.819149</td>\n",
       "    </tr>\n",
       "    <tr>\n",
       "      <th>484</th>\n",
       "      <td>-0.988206</td>\n",
       "      <td>-1.294376</td>\n",
       "      <td>-0.573307</td>\n",
       "      <td>-0.933142</td>\n",
       "      <td>-0.819149</td>\n",
       "    </tr>\n",
       "    <tr>\n",
       "      <th>507</th>\n",
       "      <td>-0.726132</td>\n",
       "      <td>-1.294376</td>\n",
       "      <td>-0.573307</td>\n",
       "      <td>-0.933142</td>\n",
       "      <td>-0.819149</td>\n",
       "    </tr>\n",
       "    <tr>\n",
       "      <th>252</th>\n",
       "      <td>2.203478</td>\n",
       "      <td>0.052516</td>\n",
       "      <td>-0.573307</td>\n",
       "      <td>-0.933142</td>\n",
       "      <td>-0.819149</td>\n",
       "    </tr>\n",
       "  </tbody>\n",
       "</table>\n",
       "</div>"
      ],
      "text/plain": [
       "         area  bedrooms  bathrooms   stories   parking\n",
       "542 -0.716772 -1.294376  -0.573307 -0.933142 -0.819149\n",
       "496 -0.538936 -1.294376  -0.573307 -0.933142 -0.819149\n",
       "484 -0.988206 -1.294376  -0.573307 -0.933142 -0.819149\n",
       "507 -0.726132 -1.294376  -0.573307 -0.933142 -0.819149\n",
       "252  2.203478  0.052516  -0.573307 -0.933142 -0.819149"
      ]
     },
     "execution_count": 48,
     "metadata": {},
     "output_type": "execute_result"
    }
   ],
   "source": [
    "X_Normtrain.head()"
   ]
  },
  {
   "cell_type": "code",
   "execution_count": 49,
   "id": "0b4b9792-e369-4ab0-a7d0-45c8756dd259",
   "metadata": {},
   "outputs": [
    {
     "data": {
      "text/plain": [
       "542   -1.586001\n",
       "496   -1.090971\n",
       "484   -0.999299\n",
       "507   -1.145974\n",
       "252   -0.137579\n",
       "Name: price, dtype: float64"
      ]
     },
     "execution_count": 49,
     "metadata": {},
     "output_type": "execute_result"
    }
   ],
   "source": [
    "Y_Normtrain.head()"
   ]
  },
  {
   "cell_type": "code",
   "execution_count": 50,
   "id": "fc88a758-c7ab-40d3-8759-1f6f8e571af9",
   "metadata": {},
   "outputs": [
    {
     "data": {
      "text/plain": [
       "542    1750000\n",
       "496    2695000\n",
       "484    2870000\n",
       "507    2590000\n",
       "252    4515000\n",
       "        ...   \n",
       "70     6790000\n",
       "277    4305000\n",
       "9      9800000\n",
       "359    3710000\n",
       "192    5040000\n",
       "Name: price, Length: 436, dtype: int64"
      ]
     },
     "execution_count": 50,
     "metadata": {},
     "output_type": "execute_result"
    }
   ],
   "source": [
    "#Scaling on the outputs\n",
    "#Y = Y_Normtrain.values\n",
    "#Y_test = Y_Normtest.values\n",
    "\n",
    "#No scaling on the outputs\n",
    "Y = df_train['price']\n",
    "Y_test = df_test['price']\n",
    "Y"
   ]
  },
  {
   "cell_type": "code",
   "execution_count": 65,
   "id": "958ce7d9-784f-493e-851f-6e8a42c47445",
   "metadata": {},
   "outputs": [
    {
     "data": {
      "text/plain": [
       "array([-7.16772046e-01, -5.38936309e-01, -9.88205539e-01, -7.26131822e-01,\n",
       "        2.20347795e+00, -5.53911950e-01, -6.13814514e-01,  2.17539862e+00,\n",
       "       -7.07412270e-01, -7.63570924e-01,  3.76656047e+00, -1.14732172e+00,\n",
       "       -3.98539675e-01, -3.04941919e-01, -7.32874724e-02, -9.74633864e-01,\n",
       "       -3.74204258e-01,  1.74484894e+00,  3.64675535e+00,  9.39908238e-01,\n",
       "       -7.26131822e-01,  7.01233960e-01, -5.15536870e-01, -1.00692509e+00,\n",
       "       -7.07412270e-01,  9.75284326e-02,  5.17052682e+00,  3.78321701e-01,\n",
       "       -1.47491387e+00,  6.94491057e-02, -1.00692509e+00, -8.19729578e-01,\n",
       "        1.63046862e-01,  5.84236765e-01,  1.63046862e-01,  3.97041252e-01,\n",
       "        1.08732470e+00, -9.22687110e-01,  1.07094510e+00,  6.77834521e-01,\n",
       "       -1.02096475e+00,  1.52021433e+00, -3.79820124e-01, -3.53803812e-02,\n",
       "        2.94290022e+00, -2.11344163e-01,  3.97041252e-01,  1.60445231e+00,\n",
       "        1.37981769e+00, -1.07431547e+00, -8.96670797e-02, -5.38936309e-01,\n",
       "       -8.43129017e-01,  2.38131368e+00,  3.97041252e-01, -3.04941919e-01,\n",
       "       -5.43616197e-01, -3.89179899e-01, -1.51937280e+00, -7.68250812e-01,\n",
       "       -1.28771836e+00, -8.96670797e-02,  6.42735362e-01, -7.02732383e-01,\n",
       "        7.48032838e-01,  3.97041252e-01, -5.57655861e-01, -6.32534065e-01,\n",
       "       -3.75140236e-01, -1.00692509e+00,  7.88088813e-02,  3.26842935e-01,\n",
       "        1.14582330e+00,  3.97041252e-01,  2.39488536e+00,  1.16247984e-01,\n",
       "       -4.82777656e-01,  1.32365904e+00, -6.09134626e-01,  7.90151828e-01,\n",
       "       -7.12092158e-01, -2.58143041e-01,  1.37045792e+00, -1.21752004e+00,\n",
       "       -5.52975973e-01,  3.97041252e-01, -5.20216758e-01,  3.97041252e-01,\n",
       "        6.94491057e-02, -1.64545285e-01, -2.58143041e-01,  1.06158532e+00,\n",
       "       -1.04904408e+00,  9.58627789e-01, -7.07412270e-01, -6.55933504e-01,\n",
       "        1.09902442e+00,  7.05913848e-01, -5.01497207e-01, -2.95582143e-01,\n",
       "        3.97041252e-01,  6.84854352e-01,  5.15910403e-01,  1.35641825e+00,\n",
       "        3.97041252e-01, -2.36615557e-01, -3.89179899e-01, -9.20347166e-01,\n",
       "       -3.04941919e-01,  1.23942106e+00,  1.63046862e-01, -5.15536870e-01,\n",
       "       -1.17072116e+00, -7.56274163e-02,  1.37981769e+00, -7.12092158e-01,\n",
       "        2.81888319e+00, -1.45825733e-01, -7.63570924e-01,  6.49755194e-01,\n",
       "       -5.38936309e-01, -4.82777656e-01,  8.32270818e-01, -6.36277976e-01,\n",
       "       -7.63570924e-01, -1.28771836e+00, -1.55166403e+00,  4.95318896e-01,\n",
       "       -8.38449129e-01, -1.76245004e-01, -7.68250812e-01, -9.43469675e-02,\n",
       "        1.45001601e+00,  1.02882611e+00,  5.49137606e-01, -3.47060909e-01,\n",
       "        2.59658852e+00,  8.18231155e-01, -9.64806100e-01, -3.65780460e-01,\n",
       "        7.29313287e-01,  1.39647423e-01,  3.40882599e-01,  5.65517213e-01,\n",
       "       -1.00692509e+00, -1.40705550e+00,  2.92886056e+00, -7.09752214e-01,\n",
       "       -3.70460348e-01, -7.72930700e-01, -9.50766436e-01,  2.09845740e-01,\n",
       "        9.58627789e-01,  1.39647423e-01, -8.94607783e-01,  3.72705836e-01,\n",
       "       -7.09475285e-02, -7.30105433e-03,  3.97041252e-01,  7.71432277e-01,\n",
       "       -7.91650251e-01, -7.63570924e-01,  8.65030033e-01, -9.64806100e-01,\n",
       "        2.25027682e+00, -8.10369802e-01, -3.51740797e-01,  2.50299077e+00,\n",
       "       -6.51253617e-01, -6.88692719e-01,  7.71432277e-01, -7.12092158e-01,\n",
       "        1.57637298e+00, -4.17259226e-01, -7.82290475e-01, -1.46789404e+00,\n",
       "       -1.00692509e+00,  1.16247984e-01, -6.09134626e-01, -3.00262031e-01,\n",
       "       -1.00692509e+00,  3.03443496e-01, -1.28865434e+00, -9.36726773e-01,\n",
       "        3.43222542e-01, -6.58273448e-01, -1.64545285e-01,  3.78321701e-01,\n",
       "        1.05690543e+00, -1.18944071e+00,  3.97041252e-01,  1.74484894e+00,\n",
       "       -4.45338553e-01, -3.89179899e-01, -8.83376052e-01, -7.12092158e-01,\n",
       "       -9.22687110e-01, -1.57525453e-01, -1.40705550e+00, -7.07412270e-01,\n",
       "        6.77834521e-01, -1.32281752e+00,  8.65030033e-01,  6.94491057e-02,\n",
       "        1.63046862e-01, -5.38936309e-01, -1.17746407e-01, -9.22687110e-01,\n",
       "       -2.43167400e-01, -1.25261920e+00,  8.00447581e-01,  1.74250900e+00,\n",
       "       -8.66528456e-01, -1.39254785e+00,  8.18231155e-01, -1.08414324e+00,\n",
       "       -5.38936309e-01, -7.09475285e-02, -8.10369802e-01,  1.63046862e-01,\n",
       "       -1.49831331e+00, -9.20347166e-01, -1.71565116e-01, -4.64058104e-01,\n",
       "       -6.09134626e-01, -7.54211148e-01, -3.75140236e-01, -1.10052285e+00,\n",
       "       -1.78584948e-01, -5.95094963e-01,  5.65517213e-01,  1.19262218e+00,\n",
       "        1.70740984e+00,  4.15760803e-01, -5.01965196e-01,  5.47265651e-01,\n",
       "        2.95226000e+00,  1.50711064e+00,  1.23942106e+00, -5.69823569e-01,\n",
       "       -2.58143041e-01,  6.54435082e-01,  6.07636204e-01, -1.87944724e-01,\n",
       "        3.97041252e-01, -7.07412270e-01, -9.22687110e-01,  6.21675867e-01,\n",
       "       -7.72930700e-01,  1.63046862e-01, -4.92137431e-01, -1.00692509e+00,\n",
       "       -7.96330139e-01, -7.12092158e-01, -5.20216758e-01,  4.43840130e-01,\n",
       "        3.97041252e-01, -6.79332944e-01,  6.49755194e-01,  6.77834521e-01,\n",
       "        6.77834521e-01,  1.16247984e-01,  6.77834521e-01,  2.03500198e+00,\n",
       "        9.86707116e-01,  6.84854352e-01, -7.96330139e-01,  5.65517213e-01,\n",
       "       -6.62676407e-02, -9.31110908e-01,  3.17483160e-01, -6.69973168e-01,\n",
       "       -7.46914388e-02,  1.16247984e-01,  3.26842935e-01, -4.92137431e-01,\n",
       "       -9.22687110e-01,  1.19262218e+00,  5.93596540e-01, -3.04941919e-01,\n",
       "       -2.58143041e-01, -5.45488152e-01, -5.85735187e-01, -7.33619642e-01,\n",
       "        8.61056422e-03, -1.00692509e+00,  1.09902442e+00, -1.18944071e+00,\n",
       "        4.88973355e+00,  5.65517213e-01, -1.10660670e+00,  6.31035643e-01,\n",
       "       -1.00692509e+00, -7.40171485e-01, -7.72930700e-01, -1.00692509e+00,\n",
       "       -5.23960668e-01, -5.38936309e-01, -8.94607783e-01, -8.15049690e-01,\n",
       "       -1.27106182e-01,  3.97041252e-01, -5.01497207e-01, -5.20216758e-01,\n",
       "        3.97041252e-01, -5.20216758e-01, -5.71695524e-01,  7.10593735e-01,\n",
       "       -1.27106182e-01,  1.09060063e+00, -1.64545285e-01,  1.18326240e+00,\n",
       "        5.65517213e-01, -3.04941919e-01, -1.40705550e+00,  1.07094510e+00,\n",
       "        7.33993174e-01,  1.35641825e+00, -1.01160498e+00, -5.38936309e-01,\n",
       "        1.01478644e+00,  1.87869373e+00, -8.96670797e-02,  5.09358560e-01,\n",
       "       -7.26131822e-01, -1.07712341e+00, -1.64545285e-01,  4.43840130e-01,\n",
       "       -2.76862592e-01, -3.89179899e-01,  3.97041252e-01, -4.07899451e-01,\n",
       "       -7.82290475e-01,  1.06158532e+00, -3.04941919e-01, -4.94477375e-01,\n",
       "       -9.78845763e-01,  2.28565291e-01, -7.26131822e-01,  6.77834521e-01,\n",
       "       -4.26619002e-01, -1.55185509e-01,  1.45001601e+00, -7.72930700e-01,\n",
       "       -1.12532625e+00,  9.04809079e-01, -7.26131822e-01, -5.38936309e-01,\n",
       "        3.97041252e-01, -1.10052285e+00, -4.92137431e-01, -1.49831331e+00,\n",
       "        7.83131996e-01,  6.49755194e-01,  3.24709293e+00, -7.96330139e-01,\n",
       "       -3.98539675e-01, -9.22687110e-01, -1.00692509e+00,  3.50242374e-01,\n",
       "       -1.00692509e+00,  5.65517213e-01, -3.51740797e-01,  3.97041252e-01,\n",
       "        5.65517213e-01, -1.64545285e-01, -8.71208344e-01, -3.04941919e-01,\n",
       "       -1.23155970e+00,  1.37981769e+00,  3.16547182e-01,  6.31035643e-01,\n",
       "        6.77834521e-01,  1.80100759e+00, -6.55933504e-01, -3.04941919e-01,\n",
       "        1.16247984e-01, -6.51253617e-01, -1.14732172e+00,  9.73135441e-01,\n",
       "       -7.03200371e-01, -9.08647446e-01, -5.52975973e-01, -9.50766436e-01,\n",
       "       -3.04941919e-01,  7.48032838e-01,  2.50299077e+00, -1.24091948e+00,\n",
       "       -1.08386631e-01,  8.74389809e-01, -7.82290475e-01, -1.02892056e+00,\n",
       "        1.80100759e+00, -9.20347166e-01,  1.16247984e-01, -7.12092158e-01,\n",
       "        1.45001601e+00, -4.78097768e-01,  8.65030033e-01, -1.15480954e+00,\n",
       "        6.21675867e-01, -3.04941919e-01, -7.02732383e-01, -6.25046245e-01,\n",
       "       -7.72930700e-01,  2.26502276e-02, -7.49211397e-04, -1.00692509e+00,\n",
       "        1.63046862e-01,  1.30961937e+00,  1.32365904e+00, -7.72930700e-01,\n",
       "       -1.06308374e+00, -3.51740797e-01,  7.88088813e-02, -1.06308374e+00,\n",
       "       -5.22279773e-02, -6.55933504e-01,  1.63046862e-01,  4.20440691e-01,\n",
       "        3.97041252e-01, -4.94477375e-01, -9.22687110e-01,  1.33301881e+00,\n",
       "       -6.15877529e-02, -6.32534065e-01, -5.57655861e-01,  3.97041252e-01,\n",
       "       -5.20216758e-01, -7.07412270e-01, -7.12092158e-01, -5.38936309e-01,\n",
       "        2.43747234e+00,  2.80044057e-01, -7.26131822e-01,  6.77834521e-01])"
      ]
     },
     "execution_count": 65,
     "metadata": {},
     "output_type": "execute_result"
    }
   ],
   "source": [
    "X1 = df_Newtrain.values[:, 0] #Area values\n",
    "X2 = df_Newtrain.values[:, 1] #Bedroom values\n",
    "X3 = df_Newtrain.values[:, 2] #Bathroom values\n",
    "X4 = df_Newtrain.values[:, 3] #Stories values\n",
    "X5 = df_Newtrain.values[:, 4] #Parking values\n",
    "\n",
    "X1_test = df_Newtest.values[:, 0] #Area values\n",
    "X2_test = df_Newtest.values[:, 1] #Bedroom values\n",
    "X3_test = df_Newtest.values[:, 2] #Bathroom values\n",
    "X4_test = df_Newtest.values[:, 3] #Stories values\n",
    "X5_test = df_Newtest.values[:, 4] #Parking values\n",
    "\n",
    "X1"
   ]
  },
  {
   "cell_type": "code",
   "execution_count": 52,
   "id": "943f11c2-3260-43d6-8087-ed6b7cdea2af",
   "metadata": {},
   "outputs": [
    {
     "data": {
      "text/plain": [
       "(436, 109)"
      ]
     },
     "execution_count": 52,
     "metadata": {},
     "output_type": "execute_result"
    }
   ],
   "source": [
    "m_train = len(Y_Normtrain)\n",
    "m_test = len(Y_Normtest)\n",
    "m_train, m_test"
   ]
  },
  {
   "cell_type": "code",
   "execution_count": 53,
   "id": "ff01adb4-eb87-478c-a4be-56d04002e9fd",
   "metadata": {},
   "outputs": [],
   "source": [
    "X_0 = np.ones((m_train, 1))\n",
    "X_0_test = np.ones((m_test, 1))"
   ]
  },
  {
   "cell_type": "code",
   "execution_count": 54,
   "id": "2f5b0a0e-1f38-4538-865d-c3a2c5b1e3db",
   "metadata": {},
   "outputs": [],
   "source": [
    "#Reshape function used to convert X from 1D to 2D array of m x 1\n",
    "X_1 = X1.reshape(m_train, 1)\n",
    "X_2 = X2.reshape(m_train, 1)\n",
    "X_3 = X3.reshape(m_train, 1)\n",
    "X_4 = X4.reshape(m_train, 1)\n",
    "X_5 = X5.reshape(m_train, 1)\n",
    "\n",
    "X_1_test = X1_test.reshape(m_test, 1)\n",
    "X_2_test = X2_test.reshape(m_test, 1)\n",
    "X_3_test = X3_test.reshape(m_test, 1)\n",
    "X_4_test = X4_test.reshape(m_test, 1)\n",
    "X_5_test = X5_test.reshape(m_test, 1)\n"
   ]
  },
  {
   "cell_type": "code",
   "execution_count": 55,
   "id": "b16af535-0816-49bd-9a0e-0c8ca9d1f99e",
   "metadata": {},
   "outputs": [],
   "source": [
    "#hstack() function from numpy to have X_0 to X_5 in one final Matrix\n",
    "X = np.hstack((X_0, X_1, X_2, X_3, X_4, X_5))\n",
    "X_test = np.hstack((X_0_test, X_1_test, X_2_test, X_3_test, X_4_test, X_5_test))\n"
   ]
  },
  {
   "cell_type": "code",
   "execution_count": 56,
   "id": "1b51e776-7707-45aa-a5de-9dc6c72819e0",
   "metadata": {},
   "outputs": [
    {
     "data": {
      "text/plain": [
       "array([0., 0., 0., 0., 0., 0.])"
      ]
     },
     "execution_count": 56,
     "metadata": {},
     "output_type": "execute_result"
    }
   ],
   "source": [
    "theta = np.zeros(6)\n",
    "theta"
   ]
  },
  {
   "cell_type": "code",
   "execution_count": 57,
   "id": "a7ccf3ee-39ed-4dfc-ba94-31a79e1794c6",
   "metadata": {},
   "outputs": [],
   "source": [
    "def compute_cost(X, Y, theta):\n",
    "    predictions = X.dot(theta)\n",
    "    errors = np.subtract(predictions, Y)\n",
    "    sqrErrors = np.square(errors)\n",
    "    J = 1 / (2 *m) * np.sum(sqrErrors)\n",
    "    \n",
    "    return J"
   ]
  },
  {
   "cell_type": "code",
   "execution_count": 58,
   "id": "936220fc-7301-4062-bfec-c428dc5e819e",
   "metadata": {},
   "outputs": [
    {
     "name": "stdout",
     "output_type": "stream",
     "text": [
      "The cost for given values of theta_0, theta_1, theta_2, theta_3, theta_4, theta_5 = 10587991986906.973\n"
     ]
    }
   ],
   "source": [
    "cost = compute_cost(X, Y, theta)\n",
    "print('The cost for given values of theta_0, theta_1, theta_2, theta_3, theta_4, theta_5 =', cost)"
   ]
  },
  {
   "cell_type": "code",
   "execution_count": 59,
   "id": "2934422c-41e6-4342-a806-c561d2baa5f0",
   "metadata": {},
   "outputs": [],
   "source": [
    "def gradient_descent(X, Y, theta, alpha, iterations):\n",
    "    cost_history = np.zeros(iterations)\n",
    "    \n",
    "    for i in range(iterations):\n",
    "        predictions = X.dot(theta)\n",
    "        errors = np.subtract(predictions, Y)\n",
    "        sum_delta = (alpha / m) * X.transpose().dot(errors);\n",
    "        theta = theta - sum_delta;\n",
    "        cost_history[i] = compute_cost(X, Y, theta)\n",
    "        \n",
    "    return theta, cost_history"
   ]
  },
  {
   "cell_type": "code",
   "execution_count": 60,
   "id": "c00590b6-2d31-4052-a54f-6e8d0057ee44",
   "metadata": {},
   "outputs": [],
   "source": [
    "theta = [0., 0., 0., 0., 0., 0.]\n",
    "theta_test = [0., 0., 0., 0., 0., 0.]\n",
    "iterations = 4000;\n",
    "alpha = 0.005;"
   ]
  },
  {
   "cell_type": "code",
   "execution_count": 61,
   "id": "305038cf-0081-48f4-b9d3-c7d96dd3e8dc",
   "metadata": {},
   "outputs": [
    {
     "name": "stdout",
     "output_type": "stream",
     "text": [
      "Final value of theta = [4777634.66281129  741595.60880049  170046.4066504   580622.46738673\n",
      "  458975.67731834  305645.26938815]\n",
      "cost_history = [1.05034978e+13 1.04197582e+13 1.03367660e+13 ... 6.50402889e+11\n",
      " 6.50402889e+11 6.50402889e+11]\n",
      "Final value of theta test set = [4636771.76542148  606309.4487097   -42361.44633881  554290.3626137\n",
      "  514890.14351948  398204.69855803]\n",
      "cost_history test set = [2.51381707e+12 2.50872111e+12 2.50363647e+12 ... 1.07532958e+11\n",
      " 1.07531320e+11 1.07529684e+11]\n"
     ]
    }
   ],
   "source": [
    "theta, cost_history = gradient_descent(X, Y, theta, alpha, iterations)\n",
    "theta_test, cost_history_test = gradient_descent(X_test, Y_test, theta_test, alpha, iterations)\n",
    "print('Final value of theta =', theta)\n",
    "print('cost_history =', cost_history)\n",
    "print('Final value of theta test set =', theta_test)\n",
    "print('cost_history test set =', cost_history_test)"
   ]
  },
  {
   "cell_type": "code",
   "execution_count": 62,
   "id": "39ffcaa3-9132-480e-9f39-63a257108803",
   "metadata": {},
   "outputs": [
    {
     "data": {
      "text/plain": [
       "Text(0.5, 1.0, 'Convergence of gradient descent')"
      ]
     },
     "execution_count": 62,
     "metadata": {},
     "output_type": "execute_result"
    },
    {
     "data": {
      "image/png": "[encoded data removed]",
      "text/plain": [
       "<Figure size 720x432 with 1 Axes>"
      ]
     },
     "metadata": {
      "needs_background": "light"
     },
     "output_type": "display_data"
    }
   ],
   "source": [
    "plt.plot(range(1, iterations + 1), cost_history, color = 'blue')\n",
    "plt.plot(range(1, iterations + 1), cost_history_test, color = 'red')\n",
    "plt.rcParams[\"figure.figsize\"] = (10,6)\n",
    "plt.grid()\n",
    "plt.xlabel('Number of iterations')\n",
    "plt.ylabel('Cost (J)')\n",
    "plt.title('Convergence of gradient descent')"
   ]
  },
  {
   "cell_type": "code",
   "execution_count": null,
   "id": "98d5f5fd-e8e5-44fb-a68e-e64262cf1175",
   "metadata": {},
   "outputs": [],
   "source": []
  }
 ],
 "metadata": {
  "kernelspec": {
   "display_name": "Python 3 (ipykernel)",
   "language": "python",
   "name": "python3"
  },
  "language_info": {
   "codemirror_mode": {
    "name": "ipython",
    "version": 3
   },
   "file_extension": ".py",
   "mimetype": "text/x-python",
   "name": "python",
   "nbconvert_exporter": "python",
   "pygments_lexer": "ipython3",
   "version": "3.9.12"
  }
 },
 "nbformat": 4,
 "nbformat_minor": 5
}
