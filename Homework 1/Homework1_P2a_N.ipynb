{
 "cells": [
  {
   "cell_type": "code",
   "execution_count": 1,
   "id": "c0a865c2-b3a9-40f8-bcce-1d5840fb3a4a",
   "metadata": {},
   "outputs": [],
   "source": [
    "import numpy as np\n",
    "import pandas as pd\n",
    "import matplotlib.pyplot as plt\n",
    "import seaborn as sns"
   ]
  },
  {
   "cell_type": "code",
   "execution_count": 2,
   "id": "d4b42632-defb-446e-acac-f9b394c22e79",
   "metadata": {
    "tags": []
   },
   "outputs": [
    {
     "data": {
      "text/html": [
       "<div>\n",
       "<style scoped>\n",
       "    .dataframe tbody tr th:only-of-type {\n",
       "        vertical-align: middle;\n",
       "    }\n",
       "\n",
       "    .dataframe tbody tr th {\n",
       "        vertical-align: top;\n",
       "    }\n",
       "\n",
       "    .dataframe thead th {\n",
       "        text-align: right;\n",
       "    }\n",
       "</style>\n",
       "<table border=\"1\" class=\"dataframe\">\n",
       "  <thead>\n",
       "    <tr style=\"text-align: right;\">\n",
       "      <th></th>\n",
       "      <th>price</th>\n",
       "      <th>area</th>\n",
       "      <th>bedrooms</th>\n",
       "      <th>bathrooms</th>\n",
       "      <th>stories</th>\n",
       "      <th>mainroad</th>\n",
       "      <th>guestroom</th>\n",
       "      <th>basement</th>\n",
       "      <th>hotwaterheating</th>\n",
       "      <th>airconditioning</th>\n",
       "      <th>parking</th>\n",
       "      <th>prefarea</th>\n",
       "      <th>furnishingstatus</th>\n",
       "    </tr>\n",
       "  </thead>\n",
       "  <tbody>\n",
       "    <tr>\n",
       "      <th>0</th>\n",
       "      <td>13300000</td>\n",
       "      <td>7420</td>\n",
       "      <td>4</td>\n",
       "      <td>2</td>\n",
       "      <td>3</td>\n",
       "      <td>yes</td>\n",
       "      <td>no</td>\n",
       "      <td>no</td>\n",
       "      <td>no</td>\n",
       "      <td>yes</td>\n",
       "      <td>2</td>\n",
       "      <td>yes</td>\n",
       "      <td>furnished</td>\n",
       "    </tr>\n",
       "    <tr>\n",
       "      <th>1</th>\n",
       "      <td>12250000</td>\n",
       "      <td>8960</td>\n",
       "      <td>4</td>\n",
       "      <td>4</td>\n",
       "      <td>4</td>\n",
       "      <td>yes</td>\n",
       "      <td>no</td>\n",
       "      <td>no</td>\n",
       "      <td>no</td>\n",
       "      <td>yes</td>\n",
       "      <td>3</td>\n",
       "      <td>no</td>\n",
       "      <td>furnished</td>\n",
       "    </tr>\n",
       "    <tr>\n",
       "      <th>2</th>\n",
       "      <td>12250000</td>\n",
       "      <td>9960</td>\n",
       "      <td>3</td>\n",
       "      <td>2</td>\n",
       "      <td>2</td>\n",
       "      <td>yes</td>\n",
       "      <td>no</td>\n",
       "      <td>yes</td>\n",
       "      <td>no</td>\n",
       "      <td>no</td>\n",
       "      <td>2</td>\n",
       "      <td>yes</td>\n",
       "      <td>semi-furnished</td>\n",
       "    </tr>\n",
       "    <tr>\n",
       "      <th>3</th>\n",
       "      <td>12215000</td>\n",
       "      <td>7500</td>\n",
       "      <td>4</td>\n",
       "      <td>2</td>\n",
       "      <td>2</td>\n",
       "      <td>yes</td>\n",
       "      <td>no</td>\n",
       "      <td>yes</td>\n",
       "      <td>no</td>\n",
       "      <td>yes</td>\n",
       "      <td>3</td>\n",
       "      <td>yes</td>\n",
       "      <td>furnished</td>\n",
       "    </tr>\n",
       "    <tr>\n",
       "      <th>4</th>\n",
       "      <td>11410000</td>\n",
       "      <td>7420</td>\n",
       "      <td>4</td>\n",
       "      <td>1</td>\n",
       "      <td>2</td>\n",
       "      <td>yes</td>\n",
       "      <td>yes</td>\n",
       "      <td>yes</td>\n",
       "      <td>no</td>\n",
       "      <td>yes</td>\n",
       "      <td>2</td>\n",
       "      <td>no</td>\n",
       "      <td>furnished</td>\n",
       "    </tr>\n",
       "  </tbody>\n",
       "</table>\n",
       "</div>"
      ],
      "text/plain": [
       "      price  area  bedrooms  bathrooms  stories mainroad guestroom basement  \\\n",
       "0  13300000  7420         4          2        3      yes        no       no   \n",
       "1  12250000  8960         4          4        4      yes        no       no   \n",
       "2  12250000  9960         3          2        2      yes        no      yes   \n",
       "3  12215000  7500         4          2        2      yes        no      yes   \n",
       "4  11410000  7420         4          1        2      yes       yes      yes   \n",
       "\n",
       "  hotwaterheating airconditioning  parking prefarea furnishingstatus  \n",
       "0              no             yes        2      yes        furnished  \n",
       "1              no             yes        3       no        furnished  \n",
       "2              no              no        2      yes   semi-furnished  \n",
       "3              no             yes        3      yes        furnished  \n",
       "4              no             yes        2       no        furnished  "
      ]
     },
     "execution_count": 2,
     "metadata": {},
     "output_type": "execute_result"
    }
   ],
   "source": [
    "housing = pd.DataFrame(pd.read_csv('Housing.csv'))\n",
    "housing.head()"
   ]
  },
  {
   "cell_type": "code",
   "execution_count": 3,
   "id": "1cba17af-65ba-4270-ad15-5887e60939d3",
   "metadata": {},
   "outputs": [
    {
     "data": {
      "text/plain": [
       "545"
      ]
     },
     "execution_count": 3,
     "metadata": {},
     "output_type": "execute_result"
    }
   ],
   "source": [
    "m = len(housing)\n",
    "m"
   ]
  },
  {
   "cell_type": "code",
   "execution_count": 4,
   "id": "0f76ce66-b355-411e-85f1-a193f0e1b3a8",
   "metadata": {},
   "outputs": [
    {
     "data": {
      "text/plain": [
       "(545, 13)"
      ]
     },
     "execution_count": 4,
     "metadata": {},
     "output_type": "execute_result"
    }
   ],
   "source": [
    "housing.shape"
   ]
  },
  {
   "cell_type": "code",
   "execution_count": 5,
   "id": "625f52f7-9d97-45c3-bf7c-12406765575e",
   "metadata": {},
   "outputs": [
    {
     "data": {
      "text/plain": [
       "((436, 13), (109, 13))"
      ]
     },
     "execution_count": 5,
     "metadata": {},
     "output_type": "execute_result"
    }
   ],
   "source": [
    "#Splitting the Data into Training and Testing Sets\n",
    "from sklearn.model_selection import train_test_split\n",
    "\n",
    "#We specify this so that the train and test data set always have the same rows, respectively\n",
    "np.random.seed(0)\n",
    "df_train, df_test = train_test_split(housing, train_size = 0.8, test_size = 0.2)\n",
    "df_train.shape, df_test.shape"
   ]
  },
  {
   "cell_type": "code",
   "execution_count": 6,
   "id": "595e4ed7-0b2d-43cf-bc8e-70a47fa8ba45",
   "metadata": {},
   "outputs": [
    {
     "data": {
      "text/html": [
       "<div>\n",
       "<style scoped>\n",
       "    .dataframe tbody tr th:only-of-type {\n",
       "        vertical-align: middle;\n",
       "    }\n",
       "\n",
       "    .dataframe tbody tr th {\n",
       "        vertical-align: top;\n",
       "    }\n",
       "\n",
       "    .dataframe thead th {\n",
       "        text-align: right;\n",
       "    }\n",
       "</style>\n",
       "<table border=\"1\" class=\"dataframe\">\n",
       "  <thead>\n",
       "    <tr style=\"text-align: right;\">\n",
       "      <th></th>\n",
       "      <th>area</th>\n",
       "      <th>bedrooms</th>\n",
       "      <th>bathrooms</th>\n",
       "      <th>stories</th>\n",
       "      <th>parking</th>\n",
       "      <th>price</th>\n",
       "    </tr>\n",
       "  </thead>\n",
       "  <tbody>\n",
       "    <tr>\n",
       "      <th>542</th>\n",
       "      <td>3620</td>\n",
       "      <td>2</td>\n",
       "      <td>1</td>\n",
       "      <td>1</td>\n",
       "      <td>0</td>\n",
       "      <td>1750000</td>\n",
       "    </tr>\n",
       "    <tr>\n",
       "      <th>496</th>\n",
       "      <td>4000</td>\n",
       "      <td>2</td>\n",
       "      <td>1</td>\n",
       "      <td>1</td>\n",
       "      <td>0</td>\n",
       "      <td>2695000</td>\n",
       "    </tr>\n",
       "    <tr>\n",
       "      <th>484</th>\n",
       "      <td>3040</td>\n",
       "      <td>2</td>\n",
       "      <td>1</td>\n",
       "      <td>1</td>\n",
       "      <td>0</td>\n",
       "      <td>2870000</td>\n",
       "    </tr>\n",
       "    <tr>\n",
       "      <th>507</th>\n",
       "      <td>3600</td>\n",
       "      <td>2</td>\n",
       "      <td>1</td>\n",
       "      <td>1</td>\n",
       "      <td>0</td>\n",
       "      <td>2590000</td>\n",
       "    </tr>\n",
       "    <tr>\n",
       "      <th>252</th>\n",
       "      <td>9860</td>\n",
       "      <td>3</td>\n",
       "      <td>1</td>\n",
       "      <td>1</td>\n",
       "      <td>0</td>\n",
       "      <td>4515000</td>\n",
       "    </tr>\n",
       "  </tbody>\n",
       "</table>\n",
       "</div>"
      ],
      "text/plain": [
       "     area  bedrooms  bathrooms  stories  parking    price\n",
       "542  3620         2          1        1        0  1750000\n",
       "496  4000         2          1        1        0  2695000\n",
       "484  3040         2          1        1        0  2870000\n",
       "507  3600         2          1        1        0  2590000\n",
       "252  9860         3          1        1        0  4515000"
      ]
     },
     "execution_count": 6,
     "metadata": {},
     "output_type": "execute_result"
    }
   ],
   "source": [
    "num_vars = ['area', 'bedrooms', 'bathrooms', 'stories', 'parking', 'price']\n",
    "df_Newtrain = df_train[num_vars]\n",
    "df_Newtest = df_test[num_vars]\n",
    "df_Newtrain.head()"
   ]
  },
  {
   "cell_type": "code",
   "execution_count": 7,
   "id": "493fead5-ab9d-4038-a6d4-62124269e0dd",
   "metadata": {},
   "outputs": [
    {
     "data": {
      "text/plain": [
       "((436, 6), (109, 6))"
      ]
     },
     "execution_count": 7,
     "metadata": {},
     "output_type": "execute_result"
    }
   ],
   "source": [
    "df_Newtrain.shape, df_Newtest.shape"
   ]
  },
  {
   "cell_type": "code",
   "execution_count": 8,
   "id": "57d53bf1-a81e-48af-8bf3-8d572fcd4e7c",
   "metadata": {},
   "outputs": [
    {
     "data": {
      "text/plain": [
       "(         area  bedrooms  bathrooms   stories   parking     price\n",
       " 542  0.124199       0.2        0.0  0.000000  0.000000  0.000000\n",
       " 496  0.150654       0.2        0.0  0.000000  0.000000  0.081818\n",
       " 484  0.083821       0.2        0.0  0.000000  0.000000  0.096970\n",
       " 507  0.122807       0.2        0.0  0.000000  0.000000  0.072727\n",
       " 252  0.558619       0.4        0.0  0.000000  0.000000  0.239394\n",
       " 263  0.148427       0.4        0.0  0.333333  0.000000  0.230303\n",
       " 240  0.139515       0.4        0.0  0.333333  0.333333  0.245455\n",
       " 175  0.554442       0.6        0.5  0.333333  0.666667  0.303030\n",
       " 385  0.125592       0.2        0.0  0.000000  0.000000  0.157576\n",
       " 374  0.117238       0.2        0.5  0.000000  0.000000  0.163636,\n",
       "          area  bedrooms  bathrooms   stories   parking     price\n",
       " 239  0.203463      0.50   0.000000  0.333333  0.333333  0.270000\n",
       " 113  0.690043      0.50   0.000000  0.000000  0.666667  0.412667\n",
       " 325  0.156710      0.75   0.000000  0.333333  0.000000  0.215000\n",
       " 66   1.000000      0.25   0.000000  0.000000  0.333333  0.493333\n",
       " 479  0.174026      0.75   0.000000  0.333333  0.000000  0.113333\n",
       " 103  0.406926      0.50   0.333333  0.666667  0.000000  0.423333\n",
       " 386  0.190476      0.50   0.000000  0.000000  0.666667  0.170000\n",
       " 480  0.158442      0.50   0.000000  0.333333  0.333333  0.113333\n",
       " 400  0.161212      0.25   0.000000  0.000000  0.333333  0.166667\n",
       " 37   0.636364      0.75   0.333333  1.000000  0.666667  0.593333)"
      ]
     },
     "execution_count": 8,
     "metadata": {},
     "output_type": "execute_result"
    }
   ],
   "source": [
    "import warnings\n",
    "warnings.filterwarnings('ignore')\n",
    "\n",
    "from sklearn.preprocessing import MinMaxScaler, StandardScaler\n",
    "m_scaler = MinMaxScaler()\n",
    "s_scaler = StandardScaler()\n",
    "#MinMax First\n",
    "df_Newtrain[num_vars] = m_scaler.fit_transform(df_Newtrain[num_vars])\n",
    "df_Newtest[num_vars] = m_scaler.fit_transform(df_Newtest[num_vars])\n",
    "df_Newtrain.head(10), df_Newtest.head(10)"
   ]
  },
  {
   "cell_type": "code",
   "execution_count": 9,
   "id": "ee26a6d4-cf6a-4b3b-8fb0-a97b3fb30706",
   "metadata": {},
   "outputs": [],
   "source": [
    "Y_Normtrain = df_Newtrain.pop('price')\n",
    "X_Normtrain = df_Newtrain.copy()\n",
    "Y_Normtest = df_Newtest.pop('price')\n",
    "X_Normtest = df_Newtest.copy()"
   ]
  },
  {
   "cell_type": "code",
   "execution_count": 10,
   "id": "d3485e90-3c63-47bb-8563-fff257ed9b5d",
   "metadata": {},
   "outputs": [
    {
     "data": {
      "text/html": [
       "<div>\n",
       "<style scoped>\n",
       "    .dataframe tbody tr th:only-of-type {\n",
       "        vertical-align: middle;\n",
       "    }\n",
       "\n",
       "    .dataframe tbody tr th {\n",
       "        vertical-align: top;\n",
       "    }\n",
       "\n",
       "    .dataframe thead th {\n",
       "        text-align: right;\n",
       "    }\n",
       "</style>\n",
       "<table border=\"1\" class=\"dataframe\">\n",
       "  <thead>\n",
       "    <tr style=\"text-align: right;\">\n",
       "      <th></th>\n",
       "      <th>area</th>\n",
       "      <th>bedrooms</th>\n",
       "      <th>bathrooms</th>\n",
       "      <th>stories</th>\n",
       "      <th>parking</th>\n",
       "    </tr>\n",
       "  </thead>\n",
       "  <tbody>\n",
       "    <tr>\n",
       "      <th>542</th>\n",
       "      <td>0.124199</td>\n",
       "      <td>0.2</td>\n",
       "      <td>0.0</td>\n",
       "      <td>0.0</td>\n",
       "      <td>0.0</td>\n",
       "    </tr>\n",
       "    <tr>\n",
       "      <th>496</th>\n",
       "      <td>0.150654</td>\n",
       "      <td>0.2</td>\n",
       "      <td>0.0</td>\n",
       "      <td>0.0</td>\n",
       "      <td>0.0</td>\n",
       "    </tr>\n",
       "    <tr>\n",
       "      <th>484</th>\n",
       "      <td>0.083821</td>\n",
       "      <td>0.2</td>\n",
       "      <td>0.0</td>\n",
       "      <td>0.0</td>\n",
       "      <td>0.0</td>\n",
       "    </tr>\n",
       "    <tr>\n",
       "      <th>507</th>\n",
       "      <td>0.122807</td>\n",
       "      <td>0.2</td>\n",
       "      <td>0.0</td>\n",
       "      <td>0.0</td>\n",
       "      <td>0.0</td>\n",
       "    </tr>\n",
       "    <tr>\n",
       "      <th>252</th>\n",
       "      <td>0.558619</td>\n",
       "      <td>0.4</td>\n",
       "      <td>0.0</td>\n",
       "      <td>0.0</td>\n",
       "      <td>0.0</td>\n",
       "    </tr>\n",
       "  </tbody>\n",
       "</table>\n",
       "</div>"
      ],
      "text/plain": [
       "         area  bedrooms  bathrooms  stories  parking\n",
       "542  0.124199       0.2        0.0      0.0      0.0\n",
       "496  0.150654       0.2        0.0      0.0      0.0\n",
       "484  0.083821       0.2        0.0      0.0      0.0\n",
       "507  0.122807       0.2        0.0      0.0      0.0\n",
       "252  0.558619       0.4        0.0      0.0      0.0"
      ]
     },
     "execution_count": 10,
     "metadata": {},
     "output_type": "execute_result"
    }
   ],
   "source": [
    "X_Normtrain.head()"
   ]
  },
  {
   "cell_type": "code",
   "execution_count": 11,
   "id": "0b4b9792-e369-4ab0-a7d0-45c8756dd259",
   "metadata": {},
   "outputs": [
    {
     "data": {
      "text/plain": [
       "542    0.000000\n",
       "496    0.081818\n",
       "484    0.096970\n",
       "507    0.072727\n",
       "252    0.239394\n",
       "Name: price, dtype: float64"
      ]
     },
     "execution_count": 11,
     "metadata": {},
     "output_type": "execute_result"
    }
   ],
   "source": [
    "Y_Normtrain.head()"
   ]
  },
  {
   "cell_type": "code",
   "execution_count": 12,
   "id": "fc88a758-c7ab-40d3-8759-1f6f8e571af9",
   "metadata": {},
   "outputs": [
    {
     "data": {
      "text/plain": [
       "542    1750000\n",
       "496    2695000\n",
       "484    2870000\n",
       "507    2590000\n",
       "252    4515000\n",
       "        ...   \n",
       "70     6790000\n",
       "277    4305000\n",
       "9      9800000\n",
       "359    3710000\n",
       "192    5040000\n",
       "Name: price, Length: 436, dtype: int64"
      ]
     },
     "execution_count": 12,
     "metadata": {},
     "output_type": "execute_result"
    }
   ],
   "source": [
    "#Y = Y_Normtrain.values\n",
    "#Y_test = Y_Normtest.values\n",
    "\n",
    "Y = df_train['price']\n",
    "Y_test = df_test['price']\n",
    "Y"
   ]
  },
  {
   "cell_type": "code",
   "execution_count": 13,
   "id": "958ce7d9-784f-493e-851f-6e8a42c47445",
   "metadata": {},
   "outputs": [],
   "source": [
    "X1 = df_Newtrain.values[:, 0] #Area values\n",
    "X2 = df_Newtrain.values[:, 1] #Bedroom values\n",
    "X3 = df_Newtrain.values[:, 2] #Bathroom values\n",
    "X4 = df_Newtrain.values[:, 3] #Stories values\n",
    "X5 = df_Newtrain.values[:, 4] #Parking values\n",
    "\n",
    "X1_test = df_Newtest.values[:, 0] #Area values\n",
    "X2_test = df_Newtest.values[:, 1] #Bedroom values\n",
    "X3_test = df_Newtest.values[:, 2] #Bathroom values\n",
    "X4_test = df_Newtest.values[:, 3] #Stories values\n",
    "X5_test = df_Newtest.values[:, 4] #Parking values"
   ]
  },
  {
   "cell_type": "code",
   "execution_count": 14,
   "id": "943f11c2-3260-43d6-8087-ed6b7cdea2af",
   "metadata": {},
   "outputs": [
    {
     "data": {
      "text/plain": [
       "(436, 109)"
      ]
     },
     "execution_count": 14,
     "metadata": {},
     "output_type": "execute_result"
    }
   ],
   "source": [
    "m_train = len(Y_Normtrain)\n",
    "m_test = len(Y_Normtest)\n",
    "m_train, m_test"
   ]
  },
  {
   "cell_type": "code",
   "execution_count": 15,
   "id": "ff01adb4-eb87-478c-a4be-56d04002e9fd",
   "metadata": {},
   "outputs": [],
   "source": [
    "X_0 = np.ones((m_train, 1))\n",
    "X_0_test = np.ones((m_test, 1))"
   ]
  },
  {
   "cell_type": "code",
   "execution_count": 16,
   "id": "2f5b0a0e-1f38-4538-865d-c3a2c5b1e3db",
   "metadata": {},
   "outputs": [],
   "source": [
    "#Reshape function used to convert X from 1D to 2D array of m x 1\n",
    "X_1 = X1.reshape(m_train, 1)\n",
    "X_2 = X2.reshape(m_train, 1)\n",
    "X_3 = X3.reshape(m_train, 1)\n",
    "X_4 = X4.reshape(m_train, 1)\n",
    "X_5 = X5.reshape(m_train, 1)\n",
    "\n",
    "X_1_test = X1_test.reshape(m_test, 1)\n",
    "X_2_test = X2_test.reshape(m_test, 1)\n",
    "X_3_test = X3_test.reshape(m_test, 1)\n",
    "X_4_test = X4_test.reshape(m_test, 1)\n",
    "X_5_test = X5_test.reshape(m_test, 1)\n"
   ]
  },
  {
   "cell_type": "code",
   "execution_count": 17,
   "id": "b16af535-0816-49bd-9a0e-0c8ca9d1f99e",
   "metadata": {},
   "outputs": [],
   "source": [
    "#hstack() function from numpy to have X_0 to X_5 in one final Matrix\n",
    "X = np.hstack((X_0, X_1, X_2, X_3, X_4, X_5))\n",
    "X_test = np.hstack((X_0_test, X_1_test, X_2_test, X_3_test, X_4_test, X_5_test))\n"
   ]
  },
  {
   "cell_type": "code",
   "execution_count": 18,
   "id": "1b51e776-7707-45aa-a5de-9dc6c72819e0",
   "metadata": {},
   "outputs": [
    {
     "data": {
      "text/plain": [
       "array([0., 0., 0., 0., 0., 0.])"
      ]
     },
     "execution_count": 18,
     "metadata": {},
     "output_type": "execute_result"
    }
   ],
   "source": [
    "theta = np.zeros(6)\n",
    "theta"
   ]
  },
  {
   "cell_type": "code",
   "execution_count": 19,
   "id": "a7ccf3ee-39ed-4dfc-ba94-31a79e1794c6",
   "metadata": {},
   "outputs": [],
   "source": [
    "def compute_cost(X, Y, theta):\n",
    "    predictions = X.dot(theta)\n",
    "    errors = np.subtract(predictions, Y)\n",
    "    sqrErrors = np.square(errors)\n",
    "    J = 1 / (2 *m) * np.sum(sqrErrors)\n",
    "    \n",
    "    return J"
   ]
  },
  {
   "cell_type": "code",
   "execution_count": 20,
   "id": "936220fc-7301-4062-bfec-c428dc5e819e",
   "metadata": {},
   "outputs": [
    {
     "name": "stdout",
     "output_type": "stream",
     "text": [
      "The cost for given values of theta_0, theta_1, theta_2, theta_3, theta_4, theta_5 = 10587991986906.973\n"
     ]
    }
   ],
   "source": [
    "cost = compute_cost(X, Y, theta)\n",
    "print('The cost for given values of theta_0, theta_1, theta_2, theta_3, theta_4, theta_5 =', cost)"
   ]
  },
  {
   "cell_type": "code",
   "execution_count": 21,
   "id": "2934422c-41e6-4342-a806-c561d2baa5f0",
   "metadata": {},
   "outputs": [],
   "source": [
    "def gradient_descent(X, Y, theta, alpha, iterations):\n",
    "    cost_history = np.zeros(iterations)\n",
    "    \n",
    "    for i in range(iterations):\n",
    "        predictions = X.dot(theta)\n",
    "        errors = np.subtract(predictions, Y)\n",
    "        sum_delta = (alpha / m) * X.transpose().dot(errors);\n",
    "        theta = theta - sum_delta;\n",
    "        cost_history[i] = compute_cost(X, Y, theta)\n",
    "        \n",
    "    return theta, cost_history"
   ]
  },
  {
   "cell_type": "code",
   "execution_count": 22,
   "id": "c00590b6-2d31-4052-a54f-6e8d0057ee44",
   "metadata": {},
   "outputs": [],
   "source": [
    "theta = [0., 0., 0., 0., 0., 0.]\n",
    "theta_test = [0., 0., 0., 0., 0., 0.]\n",
    "iterations = 4000;\n",
    "alpha = 0.003;"
   ]
  },
  {
   "cell_type": "code",
   "execution_count": 23,
   "id": "305038cf-0081-48f4-b9d3-c7d96dd3e8dc",
   "metadata": {},
   "outputs": [
    {
     "name": "stdout",
     "output_type": "stream",
     "text": [
      "Final value of theta = [2948129.72920817 1573270.81950637 1474484.7493093  1460369.22338214\n",
      " 1470375.72590992 1361487.40389956]\n",
      "cost_history = [1.05241741e+13 1.04607778e+13 1.03978004e+13 ... 7.75706711e+11\n",
      " 7.75684880e+11 7.75663054e+11]\n",
      "Final value of theta test set = [2994732.73851409 1219275.78153488 1530959.92931509  604315.11531448\n",
      " 1073793.42835473  903888.90803644]\n",
      "cost_history test set = [2.51477168e+12 2.51062634e+12 2.50648834e+12 ... 1.64494707e+11\n",
      " 1.64487501e+11 1.64480302e+11]\n"
     ]
    }
   ],
   "source": [
    "theta, cost_history = gradient_descent(X, Y, theta, alpha, iterations)\n",
    "theta_test, cost_history_test = gradient_descent(X_test, Y_test, theta_test, alpha, iterations)\n",
    "print('Final value of theta =', theta)\n",
    "print('cost_history =', cost_history)\n",
    "print('Final value of theta test set =', theta_test)\n",
    "print('cost_history test set =', cost_history_test)"
   ]
  },
  {
   "cell_type": "code",
   "execution_count": 24,
   "id": "39ffcaa3-9132-480e-9f39-63a257108803",
   "metadata": {},
   "outputs": [
    {
     "data": {
      "text/plain": [
       "Text(0.5, 1.0, 'Convergence of gradient descent')"
      ]
     },
     "execution_count": 24,
     "metadata": {},
     "output_type": "execute_result"
    },
    {
     "data": {
      "image/png": "[encoded data removed]",
      "text/plain": [
       "<Figure size 432x288 with 1 Axes>"
      ]
     },
     "metadata": {
      "needs_background": "light"
     },
     "output_type": "display_data"
    }
   ],
   "source": [
    "plt.plot(range(1, iterations + 1), cost_history, color = 'blue')\n",
    "plt.plot(range(1, iterations + 1), cost_history_test, color = 'red')\n",
    "plt.rcParams[\"figure.figsize\"] = (10,6)\n",
    "plt.grid()\n",
    "plt.xlabel('Number of iterations')\n",
    "plt.ylabel('Cost (J)')\n",
    "plt.title('Convergence of gradient descent')"
   ]
  },
  {
   "cell_type": "code",
   "execution_count": null,
   "id": "98d5f5fd-e8e5-44fb-a68e-e64262cf1175",
   "metadata": {},
   "outputs": [],
   "source": []
  }
 ],
 "metadata": {
  "kernelspec": {
   "display_name": "Python 3 (ipykernel)",
   "language": "python",
   "name": "python3"
  },
  "language_info": {
   "codemirror_mode": {
    "name": "ipython",
    "version": 3
   },
   "file_extension": ".py",
   "mimetype": "text/x-python",
   "name": "python",
   "nbconvert_exporter": "python",
   "pygments_lexer": "ipython3",
   "version": "3.9.12"
  }
 },
 "nbformat": 4,
 "nbformat_minor": 5
}
