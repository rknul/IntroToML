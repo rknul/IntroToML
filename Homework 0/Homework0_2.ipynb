{
 "cells": [
  {
   "cell_type": "code",
   "execution_count": 22,
   "id": "c0a865c2-b3a9-40f8-bcce-1d5840fb3a4a",
   "metadata": {},
   "outputs": [],
   "source": [
    "import numpy as np\n",
    "import pandas as pd\n",
    "import matplotlib.pyplot as plt"
   ]
  },
  {
   "cell_type": "code",
   "execution_count": 23,
   "id": "d4b42632-defb-446e-acac-f9b394c22e79",
   "metadata": {
    "tags": []
   },
   "outputs": [
    {
     "data": {
      "text/plain": [
       "100"
      ]
     },
     "execution_count": 23,
     "metadata": {},
     "output_type": "execute_result"
    }
   ],
   "source": [
    "df = pd.read_csv('D3.csv')\n",
    "df.head()\n",
    "M = len(df)\n",
    "M"
   ]
  },
  {
   "cell_type": "code",
   "execution_count": 24,
   "id": "943f11c2-3260-43d6-8087-ed6b7cdea2af",
   "metadata": {},
   "outputs": [
    {
     "name": "stdout",
     "output_type": "stream",
     "text": [
      "X1 =  [0.         0.04040404 0.08080808 0.12121212 0.16161616]\n",
      "X2 =  [3.44       0.1349495  0.82989899 1.52484848 2.21979798]\n",
      "X3 =  [0.44       0.88848485 1.3369697  1.78545454 2.23393939]\n",
      "Y =  [4.38754501 2.6796499  2.96848981 3.25406475 3.53637472]\n",
      "m =  100\n"
     ]
    }
   ],
   "source": [
    "X1 = df.values[:, 0] #gets input values from 1st column\n",
    "X2 = df.values[:, 1] #gets input values from 2nd column\n",
    "X3 = df.values[:, 2] #gets input values from 3rd column\n",
    "Y = df.values[:, 3] #gets output values from 4th column\n",
    "m = len(Y) # Number of training examples\n",
    "print('X1 = ', X1[: 5]) #Show first 5 values\n",
    "print('X2 = ', X2[: 5]) #Show first 5 values\n",
    "print('X3 = ', X3[: 5]) #Show first 5 values\n",
    "print('Y = ', Y[: 5])\n",
    "print('m = ', m)"
   ]
  },
  {
   "cell_type": "code",
   "execution_count": 25,
   "id": "b16af535-0816-49bd-9a0e-0c8ca9d1f99e",
   "metadata": {},
   "outputs": [
    {
     "data": {
      "text/plain": [
       "array([[1.],\n",
       "       [1.],\n",
       "       [1.],\n",
       "       [1.],\n",
       "       [1.]])"
      ]
     },
     "execution_count": 25,
     "metadata": {},
     "output_type": "execute_result"
    }
   ],
   "source": [
    "#Creating matrix with single column of ones\n",
    "X_0 = np.ones((m, 1))\n",
    "X_0[:5] #Show 5 values of matrix"
   ]
  },
  {
   "cell_type": "code",
   "execution_count": 26,
   "id": "1b51e776-7707-45aa-a5de-9dc6c72819e0",
   "metadata": {},
   "outputs": [
    {
     "data": {
      "text/plain": [
       "(array([[0.        ],\n",
       "        [0.04040404],\n",
       "        [0.08080808],\n",
       "        [0.12121212],\n",
       "        [0.16161616],\n",
       "        [0.2020202 ],\n",
       "        [0.24242424],\n",
       "        [0.28282828],\n",
       "        [0.32323232],\n",
       "        [0.36363636]]),\n",
       " array([[3.44      ],\n",
       "        [0.1349495 ],\n",
       "        [0.82989899],\n",
       "        [1.52484848],\n",
       "        [2.21979798],\n",
       "        [2.91474747],\n",
       "        [3.60969697],\n",
       "        [0.30464646],\n",
       "        [0.99959596],\n",
       "        [1.69454546]]),\n",
       " array([[0.44      ],\n",
       "        [0.88848485],\n",
       "        [1.3369697 ],\n",
       "        [1.78545454],\n",
       "        [2.23393939],\n",
       "        [2.68242424],\n",
       "        [3.13090909],\n",
       "        [3.57939394],\n",
       "        [0.02787879],\n",
       "        [0.47636364]]))"
      ]
     },
     "execution_count": 26,
     "metadata": {},
     "output_type": "execute_result"
    }
   ],
   "source": [
    "#Reshape function used to convert X from 1D to 2D array of 100x1\n",
    "X_1 = X1.reshape(m, 1)\n",
    "X_2 = X2.reshape(m, 1)\n",
    "X_3 = X3.reshape(m, 1)\n",
    "X_1[:10], X_2[:10], X_3[:10] #Show first 10 values"
   ]
  },
  {
   "cell_type": "code",
   "execution_count": 27,
   "id": "a7ccf3ee-39ed-4dfc-ba94-31a79e1794c6",
   "metadata": {},
   "outputs": [
    {
     "data": {
      "text/plain": [
       "array([[1.        , 0.        , 3.44      , 0.44      ],\n",
       "       [1.        , 0.04040404, 0.1349495 , 0.88848485],\n",
       "       [1.        , 0.08080808, 0.82989899, 1.3369697 ],\n",
       "       [1.        , 0.12121212, 1.52484848, 1.78545454],\n",
       "       [1.        , 0.16161616, 2.21979798, 2.23393939]])"
      ]
     },
     "execution_count": 27,
     "metadata": {},
     "output_type": "execute_result"
    }
   ],
   "source": [
    "#hstack() function from numpy to have X_0 and X_1 in one final Matrix\n",
    "X = np.hstack((X_0, X_1, X_2, X_3))\n",
    "X[:5]"
   ]
  },
  {
   "cell_type": "code",
   "execution_count": 28,
   "id": "936220fc-7301-4062-bfec-c428dc5e819e",
   "metadata": {},
   "outputs": [
    {
     "data": {
      "text/plain": [
       "array([0., 0., 0., 0.])"
      ]
     },
     "execution_count": 28,
     "metadata": {},
     "output_type": "execute_result"
    }
   ],
   "source": [
    "theta = np.zeros(4)\n",
    "theta"
   ]
  },
  {
   "cell_type": "code",
   "execution_count": 29,
   "id": "2934422c-41e6-4342-a806-c561d2baa5f0",
   "metadata": {},
   "outputs": [],
   "source": [
    "def compute_cost(X, Y, theta):\n",
    "    predictions = X.dot(theta)\n",
    "    errors = np.subtract(predictions, Y)\n",
    "    sqrErrors = np.square(errors)\n",
    "    J = 1 / (2 *m) * np.sum(sqrErrors)\n",
    "    \n",
    "    return J"
   ]
  },
  {
   "cell_type": "code",
   "execution_count": 31,
   "id": "c00590b6-2d31-4052-a54f-6e8d0057ee44",
   "metadata": {},
   "outputs": [
    {
     "name": "stdout",
     "output_type": "stream",
     "text": [
      "The cost for given values of theta_0, theta_1, theta_2, theta_3 = 5.524438459196242\n"
     ]
    }
   ],
   "source": [
    "cost = compute_cost(X, Y, theta)\n",
    "print('The cost for given values of theta_0, theta_1, theta_2, theta_3 =', cost)"
   ]
  },
  {
   "cell_type": "code",
   "execution_count": 32,
   "id": "305038cf-0081-48f4-b9d3-c7d96dd3e8dc",
   "metadata": {},
   "outputs": [],
   "source": [
    "def gradient_descent(X, Y, theta, aplha, iterations):\n",
    "    cost_history = np.zeros(iterations)\n",
    "    \n",
    "    for i in range(iterations):\n",
    "        predictions = X.dot(theta)\n",
    "        errors = np.subtract(predictions, Y)\n",
    "        sum_delta = (alpha / m) * X.transpose().dot(errors);\n",
    "        theta = theta - sum_delta;\n",
    "        cost_history[i] = compute_cost(X, Y, theta)\n",
    "        \n",
    "    return theta, cost_history"
   ]
  },
  {
   "cell_type": "code",
   "execution_count": 41,
   "id": "39ffcaa3-9132-480e-9f39-63a257108803",
   "metadata": {},
   "outputs": [],
   "source": [
    "theta = [0., 0., 0., 0.]\n",
    "iterations = 1500;\n",
    "alpha = 0.05;"
   ]
  },
  {
   "cell_type": "code",
   "execution_count": 42,
   "id": "272be676-335b-4209-8f16-3fa2a22a64fc",
   "metadata": {},
   "outputs": [
    {
     "name": "stdout",
     "output_type": "stream",
     "text": [
      "Final value of theta = [ 5.31128136 -2.0033116   0.5330402  -0.26517886]\n",
      "cost_history = [4.35632837 3.99754934 3.73994659 ... 0.73846469 0.73846469 0.73846469]\n"
     ]
    }
   ],
   "source": [
    "theta, cost_history = gradient_descent(X, Y, theta, alpha, iterations)\n",
    "print('Final value of theta =', theta)\n",
    "print('cost_history =', cost_history)"
   ]
  },
  {
   "cell_type": "code",
   "execution_count": 43,
   "id": "9037c9a6-7a6e-4e4b-b6ac-a3562ffc975b",
   "metadata": {
    "tags": []
   },
   "outputs": [
    {
     "data": {
      "text/plain": [
       "Text(0.5, 1.0, 'Convergence of gradient descent')"
      ]
     },
     "execution_count": 43,
     "metadata": {},
     "output_type": "execute_result"
    },
    {
     "data": {
      "image/png": "[encoded data removed]",
      "text/plain": [
       "<Figure size 720x432 with 1 Axes>"
      ]
     },
     "metadata": {
      "needs_background": "light"
     },
     "output_type": "display_data"
    }
   ],
   "source": [
    "plt.plot(range(1, iterations + 1), cost_history, color = 'blue')\n",
    "plt.rcParams[\"figure.figsize\"] = (10,6)\n",
    "plt.grid()\n",
    "plt.xlabel('Number of iterations')\n",
    "plt.ylabel('Cost (J)')\n",
    "plt.title('Convergence of gradient descent')"
   ]
  }
 ],
 "metadata": {
  "kernelspec": {
   "display_name": "Python 3 (ipykernel)",
   "language": "python",
   "name": "python3"
  },
  "language_info": {
   "codemirror_mode": {
    "name": "ipython",
    "version": 3
   },
   "file_extension": ".py",
   "mimetype": "text/x-python",
   "name": "python",
   "nbconvert_exporter": "python",
   "pygments_lexer": "ipython3",
   "version": "3.9.12"
  }
 },
 "nbformat": 4,
 "nbformat_minor": 5
}
